{
 "cells": [
  {
   "cell_type": "code",
   "execution_count": 110,
   "metadata": {},
   "outputs": [
    {
     "name": "stderr",
     "output_type": "stream",
     "text": [
      "Matplotlib is building the font cache using fc-list. This may take a moment.\n"
     ]
    }
   ],
   "source": [
    "import os\n",
    "import configparser\n",
    "from datetime import datetime\n",
    "\n",
    "from twython import Twython\n",
    "import pandas as pd"
   ]
  },
  {
   "cell_type": "code",
   "execution_count": 22,
   "metadata": {},
   "outputs": [],
   "source": [
    "# const\n",
    "CRED_FNAME = 'credentials.txt'"
   ]
  },
  {
   "cell_type": "code",
   "execution_count": 111,
   "metadata": {},
   "outputs": [],
   "source": [
    "class TweetLoader(object):\n",
    "    \n",
    "    def __init__(self, cred_dir = '../twitter-cred', cred_fname = CRED_FNAME):\n",
    "        cred_fpath = os.path.join(cred_dir, cred_fname)\n",
    "        print(f\"Retrieve twitter credential: {cred_fpath}\")\n",
    "        if os.path.exists(cred_fpath):\n",
    "            config = configparser.ConfigParser()\n",
    "            config.read(cred_fpath)\n",
    "            try:\n",
    "                self._app_key = config['OAUTH']['app_key']\n",
    "                self._app_secret = config['OAUTH']['app_secret']\n",
    "                self._oauth_token = config['OAUTH']['oauth_token']\n",
    "                self._oauth_token_secret = config['OAUTH']['oauth_token_secret']\n",
    "            except KeyError as ex:\n",
    "                raise ValueError(f\"Failure to read field: {ex}\")\n",
    "                \n",
    "            self.twitter = Twython(self._app_key, self._app_secret)\n",
    "        else:\n",
    "            raise ValueError(f\"Failed to read credential file: {cred_fpath}\")\n",
    "            \n",
    "    def get_tweets(self, query, from_date, to_date, count=50):\n",
    "        tweets = []\n",
    "        results = self.twitter.search(q=query, until=to_date, count=count)\n",
    "        \n",
    "        to_date = datetime.strptime(to_date, \"%Y-%m-%d\")\n",
    "        from_date = datetime.strptime(from_date, \"%Y-%m-%d\")\n",
    "        for result in results['statuses']:\n",
    "            tweet_date = datetime.strptime(result['created_at'], \"%a %b %d %H:%M:%S %z %Y\").replace(tzinfo=None)\n",
    "            if tweet_date < from_date:\n",
    "                break\n",
    "            tweet_text = result['text']\n",
    "            tweets.append(tweet_text)\n",
    "            \n",
    "        return tweets"
   ]
  },
  {
   "cell_type": "code",
   "execution_count": 113,
   "metadata": {},
   "outputs": [
    {
     "name": "stdout",
     "output_type": "stream",
     "text": [
      "Retrieve twitter credential: ../twitter-cred/credentials.txt\n",
      "2019-12-07 23:59:21\n",
      "2019-12-07 23:59:21\n",
      "2019-12-07 23:59:20\n",
      "2019-12-07 23:59:20\n",
      "2019-12-07 23:59:19\n",
      "2019-12-07 23:59:19\n",
      "2019-12-07 23:59:19\n",
      "2019-12-07 23:54:23\n",
      "2019-12-07 23:53:17\n",
      "2019-12-07 23:53:12\n"
     ]
    },
    {
     "data": {
      "text/plain": [
       "['RT @vieiraUAE: Goldman Sachs Biggest Scandal to Date Bursts! Apple Victim of Stock Market Manipulation $GS $AAPL $QQQ https://t.co/U7DpFNZ5…',\n",
       " 'RT @TraderRobertH: $AAPL from 2019-12-07. Gap up, took out prior resistance, re-test, off to the races. Aided by strong $SPY for a power tr…',\n",
       " \"RT @MC2085: $AAPL Weekly Chart.\\n\\nPerfectly Normal Candle.\\n\\nNice Volume off the August $192.58 Low. (Note to Siri: That's Sarcasm). https://…\",\n",
       " 'RT @Celina1422: @Sandro_power Fantastic gains in $AAPL and $GOOGL, watch the video and find out more!',\n",
       " 'RT @Sandro_power: We had a great week with just  2 powerful plans we focused on $AAPL and GOOGL with skill right after dec 03 This Video  l…',\n",
       " 'RT @pineconemacro: $AAPL worth more than energy...all of it https://t.co/P9Yv8LgpAc',\n",
       " \"RT @TEEELAZER: 9x since Halloween buyin🍎 $AAPL after it took out the low of previous day would've worked, so don't let someone tell you it'…\",\n",
       " 'RT @Sandro_power: We had a great week with just  2 powerful plans we focused on $AAPL and GOOGL with skill right after dec 03 This Video  l…',\n",
       " 'RT @jspmllc: Some Picks for the Weekend (1/2):\\n\\n$ASML $AAPL $GOOGL $CRSP $HZNP $INMD $JPM $RTN $BABA $STM $CZZ #Tier1_Accum\\n\\n$BSX $RH $CRUS…',\n",
       " 'RT @Sandro_power: We had a great week with just  2 powerful plans we focused on $AAPL and $GOOGL with skill right after dec 03 This Video…']"
      ]
     },
     "execution_count": 113,
     "metadata": {},
     "output_type": "execute_result"
    }
   ],
   "source": [
    "# Usage: \n",
    "# loader = TweetLoader()\n",
    "# loader.get_tweets(\"$AAPL\", \"2019-12-07\", \"2019-12-08\", 10)"
   ]
  }
 ],
 "metadata": {
  "kernelspec": {
   "display_name": "Python 3",
   "language": "python",
   "name": "python3"
  },
  "language_info": {
   "codemirror_mode": {
    "name": "ipython",
    "version": 3
   },
   "file_extension": ".py",
   "mimetype": "text/x-python",
   "name": "python",
   "nbconvert_exporter": "python",
   "pygments_lexer": "ipython3",
   "version": "3.7.4"
  }
 },
 "nbformat": 4,
 "nbformat_minor": 2
}
