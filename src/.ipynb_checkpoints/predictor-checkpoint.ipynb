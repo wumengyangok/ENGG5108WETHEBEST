{
 "cells": [
  {
   "cell_type": "code",
   "execution_count": 1,
   "metadata": {},
   "outputs": [],
   "source": [
    "import os\n",
    "import pandas as pd\n",
    "import numpy as np\n",
    "import pickle\n",
    "import shutil\n",
    "from datetime import datetime, timedelta\n",
    "import yfinance as yf\n",
    "import holidays\n",
    "\n",
    "# tqdm\n",
    "import tqdm\n",
    "from tqdm import tqdm_notebook, trange\n",
    "\n",
    "# torch\n",
    "import torch\n",
    "from torch.utils.data import (DataLoader, RandomSampler, SequentialSampler, TensorDataset)\n",
    "from torch.nn import CrossEntropyLoss, MSELoss\n",
    "from transformers import BertTokenizer, BertModel, BertForMaskedLM, BertForSequenceClassification, AdamW\n",
    "\n",
    "# OPTIONAL: if you want to have more information on what's happening, activate the logger as follows\n",
    "import logging\n",
    "logging.basicConfig(level=logging.INFO)\n",
    "\n",
    "# locals\n",
    "from config import Config\n",
    "from input_example import InputExample\n",
    "from input_features import InputFeatures, convert_example_to_feature\n",
    "from twitter import Twitter"
   ]
  },
  {
   "cell_type": "code",
   "execution_count": 2,
   "metadata": {},
   "outputs": [],
   "source": [
    "device = torch.device(\"cuda\" if torch.cuda.is_available() else \"cpu\")\n",
    "\n",
    "# The maximum total input sequence length after WordPiece tokenization.\n",
    "# Sequences longer than this will be truncated, and sequences shorter than this will be padded.\n",
    "MAX_SEQ_LENGTH = 128\n",
    "\n",
    "TRAIN_BATCH_SIZE = 24\n",
    "EVAL_BATCH_SIZE = 8\n",
    "LEARNING_RATE = 2e-5\n",
    "NUM_TRAIN_EPOCHS = 1\n",
    "RANDOM_SEED = 42\n",
    "GRADIENT_ACCUMULATION_STEPS = 1\n",
    "WARMUP_PROPORTION = 0.1\n",
    "OUTPUT_MODE = 'classification'\n",
    "\n",
    "CONFIG_NAME = \"config.json\"\n",
    "WEIGHTS_NAME = \"pytorch_model.bin\""
   ]
  },
  {
   "cell_type": "code",
   "execution_count": 45,
   "metadata": {},
   "outputs": [],
   "source": [
    "class Predictor(object):\n",
    "    \n",
    "    def __init__(self):\n",
    "        self.twitter = Twitter()\n",
    "        self.config = Config()\n",
    "        self.us_holidays = holidays.CountryHoliday('US', prov=None, state='NY')\n",
    "    \n",
    "    def set_stock(self, stock):\n",
    "        self.stock = stock\n",
    "    \n",
    "    def set_date_range(self, from_date, to_date):\n",
    "        self.to_date = datetime.strptime(to_date, \"%Y-%m-%d\")\n",
    "        self.from_date = datetime.strptime(from_date, \"%Y-%m-%d\")\n",
    "        \n",
    "    def set_model(self, path = None):\n",
    "        self.model = BertForSequenceClassification.from_pretrained(\n",
    "            'bert-base-cased', cache_dir=self.config.get_cache_dir(), num_labels=2\n",
    "        )\n",
    "        \n",
    "        if path != None:\n",
    "            self.model.load_state_dict(torch.load(path))\n",
    "            \n",
    "        self.model.to(device)\n",
    "        \n",
    "    def load_data(self, query, from_date, to_date, count = 16):\n",
    "        tweets = self.twitter.get_online_tweets(query, from_date.strftime(\"%Y-%m-%d\"), to_date.strftime(\"%Y-%m-%d\"), count)\n",
    "        print([x.text_a for x in tweets])\n",
    "        features = self.twitter.conv2features(tweets, max_seq_length = 48)\n",
    "        \n",
    "        all_input_ids = torch.tensor([f.input_ids for f in features], dtype=torch.long)\n",
    "        all_input_mask = torch.tensor([f.input_mask for f in features], dtype=torch.long)\n",
    "        all_segment_ids = torch.tensor([f.segment_ids for f in features], dtype=torch.long)\n",
    "        \n",
    "        if OUTPUT_MODE == \"classification\":\n",
    "            all_label_ids = torch.tensor([f.label_id for f in features], dtype=torch.long)\n",
    "        elif OUTPUT_MODE == \"regression\":\n",
    "            all_label_ids = torch.tensor([f.label_id for f in features], dtype=torch.float)\n",
    "            \n",
    "        eval_data = TensorDataset(all_input_ids, all_input_mask, all_segment_ids, all_label_ids)\n",
    "        return eval_data\n",
    "        \n",
    "    def load_custom_data(self):\n",
    "        text = [\n",
    "            \"very good, the price must be rising, everyone must buy now.\",\n",
    "            \"unbeliveable good, this price is reasonable and it must go up next month\",\n",
    "            \"NO, please don't believe it, must go down later, fake!\",\n",
    "            \"very bad, impossble low price is coming, sell them add, dangerous!\"\n",
    "        ]\n",
    "        \n",
    "        tweets = [InputExample(i, t, label=0) for i, t in enumerate(text)]\n",
    "        print([x.text_a for x in tweets])\n",
    "        features = self.twitter.conv2features(tweets, max_seq_length = 20)\n",
    "        \n",
    "        all_input_ids = torch.tensor([f.input_ids for f in features], dtype=torch.long)\n",
    "        all_input_mask = torch.tensor([f.input_mask for f in features], dtype=torch.long)\n",
    "        all_segment_ids = torch.tensor([f.segment_ids for f in features], dtype=torch.long)\n",
    "        \n",
    "        if OUTPUT_MODE == \"classification\":\n",
    "            all_label_ids = torch.tensor([f.label_id for f in features], dtype=torch.long)\n",
    "        elif OUTPUT_MODE == \"regression\":\n",
    "            all_label_ids = torch.tensor([f.label_id for f in features], dtype=torch.float)\n",
    "            \n",
    "        eval_data = TensorDataset(all_input_ids, all_input_mask, all_segment_ids, all_label_ids)\n",
    "        return eval_data\n",
    "        \n",
    "    def classify_tweets(self, eval_data, threshold = 0.5):\n",
    "        # Run prediction for full data\n",
    "        eval_sampler = SequentialSampler(eval_data)\n",
    "        eval_dataloader = DataLoader(eval_data, sampler=eval_sampler, batch_size=EVAL_BATCH_SIZE)\n",
    "        \n",
    "        # Start predicts stage\n",
    "        self.model.eval()\n",
    "        eval_loss = 0\n",
    "        nb_eval_steps = 0\n",
    "        preds = []\n",
    "        bert_predicted = []\n",
    "        \n",
    "        for input_ids, input_mask, segment_ids, label_ids in tqdm_notebook(eval_dataloader, desc=\"Evaluating\"):\n",
    "            input_ids = input_ids.to(device)\n",
    "            input_mask = input_mask.to(device)\n",
    "            segment_ids = segment_ids.to(device)\n",
    "            label_ids = label_ids.to(device)\n",
    "\n",
    "            with torch.no_grad():\n",
    "                output = self.model(input_ids, segment_ids, input_mask, labels=None)\n",
    "                \n",
    "            logits = output[0].detach().cpu().numpy()\n",
    "            \n",
    "            if len(preds) == 0:\n",
    "                preds.append(logits)\n",
    "            else:\n",
    "                preds[0] = np.append(preds[0], logits, axis=0)\n",
    "                \n",
    "            bert_predicted += list(logits[:, 0] > threshold)\n",
    "            \n",
    "        preds = preds[0]\n",
    "        # print(preds)\n",
    "        return bert_predicted\n",
    "    \n",
    "    def _get_market_days(self, from_date, to_date):\n",
    "        all_days = pd.bdate_range(from_date, to_date).tolist()\n",
    "        market_days = list(filter(lambda x: not(x in self.us_holidays), all_days))\n",
    "        return market_days\n",
    "    \n",
    "    def predicts(self, query, count = 16):\n",
    "        market_days = self._get_market_days(self.from_date, self.to_date)\n",
    "        pred = []\n",
    "        ref_days = dict()\n",
    "        for i, day in enumerate(market_days):\n",
    "            if i == 0:\n",
    "                d = day - timedelta(1)\n",
    "            else:\n",
    "                d = market_days[i-1]\n",
    "            ref_days[day] = d\n",
    "        \n",
    "        for day in market_days:\n",
    "            # self.set_date_range(.strftime(\"%Y-%m-%d\"), day.strftime(\"%Y-%m-%d\"))\n",
    "            eval_data = predictor.load_data(query=query, from_date = ref_days[day], to_date = day, count=count)\n",
    "            result = predictor.classify_tweets(eval_data)\n",
    "            value = 1 if result.count(True) > result.count(False) else 0 if result.count(True) == result.count(False) else -1\n",
    "            pred = np.append(pred, value)\n",
    "        \n",
    "        return market_days, pred\n",
    "    \n",
    "    def verify(self, pred):\n",
    "        ticker = yf.Ticker(self.stock)\n",
    "        hist = ticker.history(start=self.from_date.strftime(\"%Y-%m-%d\"), end=self.to_date.strftime(\"%Y-%m-%d\"))\n",
    "        diff = hist[\"Close\"] - hist[\"Open\"]\n",
    "        verify = [1 if p > 0 else 0 if p == 0 else -1 for p in diff]\n",
    "        \n",
    "        if len(pred) != len(verify):\n",
    "            raise Exception(\"length of pred is {}, does not match with length of verify {}\".format(len(pred), len(verify)))\n",
    "        \n",
    "        result = []\n",
    "        for p, v in zip(pred, verify):\n",
    "            result = np.append(result, p == v)\n",
    "                \n",
    "        correct = (result == True).sum()\n",
    "        accuracy = correct / len(pred)\n",
    "        \n",
    "        return result, accuracy"
   ]
  },
  {
   "cell_type": "code",
   "execution_count": 46,
   "metadata": {},
   "outputs": [
    {
     "name": "stdout",
     "output_type": "stream",
     "text": [
      "Retrieve twitter credential: ../twitter-cred\\credentials.txt\n"
     ]
    },
    {
     "name": "stderr",
     "output_type": "stream",
     "text": [
      "Using cache found in C:\\Users\\ivangundampc/.cache\\torch\\hub\\huggingface_pytorch-transformers_master\n",
      "INFO:transformers.tokenization_utils:loading file https://s3.amazonaws.com/models.huggingface.co/bert/bert-base-cased-vocab.txt from cache at C:\\Users\\ivangundampc\\.cache\\torch\\transformers\\5e8a2b4893d13790ed4150ca1906be5f7a03d6c4ddf62296c383f6db42814db2.e13dbb970cb325137104fb2e5f36fe865f27746c6b526f6352861b1980eb80b1\n",
      "INFO:transformers.configuration_utils:loading configuration file https://s3.amazonaws.com/models.huggingface.co/bert/bert-base-cased-config.json from cache at ../cache/b945b69218e98b3e2c95acf911789741307dec43c698d35fad11c1ae28bda352.d7a3af18ce3a2ab7c0f48f04dc8daff45ed9a3ed333b9e9a79d012a0dedf87a6\n",
      "INFO:transformers.configuration_utils:Model config {\n",
      "  \"attention_probs_dropout_prob\": 0.1,\n",
      "  \"finetuning_task\": null,\n",
      "  \"hidden_act\": \"gelu\",\n",
      "  \"hidden_dropout_prob\": 0.1,\n",
      "  \"hidden_size\": 768,\n",
      "  \"initializer_range\": 0.02,\n",
      "  \"intermediate_size\": 3072,\n",
      "  \"layer_norm_eps\": 1e-12,\n",
      "  \"max_position_embeddings\": 512,\n",
      "  \"num_attention_heads\": 12,\n",
      "  \"num_hidden_layers\": 12,\n",
      "  \"num_labels\": 2,\n",
      "  \"output_attentions\": false,\n",
      "  \"output_hidden_states\": false,\n",
      "  \"output_past\": true,\n",
      "  \"pruned_heads\": {},\n",
      "  \"torchscript\": false,\n",
      "  \"type_vocab_size\": 2,\n",
      "  \"use_bfloat16\": false,\n",
      "  \"vocab_size\": 28996\n",
      "}\n",
      "\n",
      "INFO:transformers.modeling_utils:loading weights file https://s3.amazonaws.com/models.huggingface.co/bert/bert-base-cased-pytorch_model.bin from cache at ../cache/35d8b9d36faaf46728a0192d82bf7d00137490cd6074e8500778afed552a67e5.3fadbea36527ae472139fe84cddaa65454d7429f12d543d80bfc3ad70de55ac2\n",
      "INFO:transformers.modeling_utils:Weights of BertForSequenceClassification not initialized from pretrained model: ['classifier.weight', 'classifier.bias']\n",
      "INFO:transformers.modeling_utils:Weights from pretrained model not used in BertForSequenceClassification: ['cls.predictions.bias', 'cls.predictions.transform.dense.weight', 'cls.predictions.transform.dense.bias', 'cls.predictions.decoder.weight', 'cls.seq_relationship.weight', 'cls.seq_relationship.bias', 'cls.predictions.transform.LayerNorm.weight', 'cls.predictions.transform.LayerNorm.bias']\n"
     ]
    }
   ],
   "source": [
    "predictor = Predictor()\n",
    "# predictor.set_model()\n",
    "predictor.set_model(\"../output/appl_100/pytorch_model.bin\")"
   ]
  },
  {
   "cell_type": "code",
   "execution_count": 47,
   "metadata": {},
   "outputs": [
    {
     "name": "stdout",
     "output_type": "stream",
     "text": [
      "[\"RT @MrFF2019: In November I've added to $AAPL, $T, $DIS, $MO, $KO, $PG, $VZ, $CVS, $IBM, $JNJ, $MSFT, $MMM, $PM. \\n\\nCheck out my financial r…\", 'RT @TedatACA: @MACcable Has The Scoop, As Usual: @ACAConnects Member Mass. Utility @BELDBraintree Makes Good On Pledge To End Cable TV Serv…', 'RT @ThrowinTrades: $ALPP .19 the most solid investment Ive ever seen in OTC, look Into it and do your DD. Everything here is legit. Buy and…', 'RT @UPBOptionMil: Some of todays most actively traded stock options 12.2.19 $BAC $SNAP $BBD $APA $GOLD $AAPL https://t.co/4f7nm6OHfV', '2019-11-29 Short sale volume (not short interest) for $NOK is 41%. https://t.co/oPXJL8Nar9 $AAPL 48% $MSFT 31% $AMZN 47% $ERIC 88%', 'RT @pineconemacro: $AAPL worth more than energy...all of it https://t.co/P9Yv8LgpAc', '$spx $qqq $nasdaq $djia $gm $xli $zn_f $gc_f $cl_f $wmt $ba $aapl $nflx $amzn $tgt $cost Stocks Slid on Lousy Manuf… https://t.co/TIC2NVtM1i', \"RT @VisionCodeX: Futures in the red. Those that follow me know that I've been expecting this run since mid-October to retrace. We made mone…\", 'RT @TedatACA: @MACcable Has The Scoop, As Usual: @ACAConnects Member Mass. Utility @BELDBraintree Makes Good On Pledge To End Cable TV Serv…', 'How to Win Friends and Influence People by Dale Carnegie: https://t.co/O6mnfEAbku #business $AAPL $SPY $DIA $SPX', 'Best Cyber Monday MacBook Air and MacBook Pro deals going on right now (prices as low as $649)… https://t.co/YptkCsNYrA', \"In November I've added to $AAPL, $T, $DIS, $MO, $KO, $PG, $VZ, $CVS, $IBM, $JNJ, $MSFT, $MMM, $PM. \\n\\nCheck out my f… https://t.co/k4ouP12PPc\", '02/12/2019\\n$APA: Nice short squeeze and awesome add in to make my day. \\n$AAPL: Broke ATH in pre market so took it l… https://t.co/KZ1Sau2wW5', 'RT @4Awesometweet: If Apple and Microsoft weren’t in the Dow, \\nit would be 1,000 points lower.  \\n\\nAlso, if Caitlin Jenner still had a penis…', \"Futures in the red. Those that follow me know that I've been expecting this run since mid-October to retrace. We ma… https://t.co/12z7XVjn6i\", 'RT @Wise_Owl_Trader: Will the VIX break out or reverse tomorrow?\\n\\n$SPY $QQQ $NDX $DIA $IWM $NFLX $FB $INTC $SMH $AAPL $NVDA $TSLA $ES $YM $…', 'RT @mcclure111: (Work for like… I dunno, an $AAPL or $MSFT or $GOOG. Companies like that do *everything*! Nothing is offtopic &amp;there4; prot…', 'Pretty meaningful rollover in $AAPL RSI just as it got to be overbought and overowned.. in delevering it can have a… https://t.co/q3ctD5TIvy', 'RT @ThrowinTrades: $ALPP .19 the most solid investment Ive ever seen in OTC, look Into it and do your DD. Everything here is legit. Buy and…', 'RT @Bruno_J_Navarro: Six of Silicon Valley’s biggest companies had a combined “tax gap” of more than $100 billion this decade, according to…']\n",
      "['[CLS]', 'R', '##T', '@', 'Mr', '##FF', '##20', '##19', ':', 'In', 'November', 'I', \"'\", 've', 'added', 'to', '$', 'AA', '##PL', ',', '$', 'T', ',', '$', 'D', '##IS', ',', '$', 'M', '##O', ',', '$', 'K', '##O', ',', '$', 'P', '##G', ',', '$', 'V', '##Z', ',', '$', 'C', '##VS', ',', '[SEP]']\n",
      "['[CLS]', 'R', '##T', '@', 'Ted', '##at', '##AC', '##A', ':', '@', 'MAC', '##ca', '##ble', 'Has', 'The', 'Sc', '##oop', ',', 'As', 'Us', '##ual', ':', '@', 'AC', '##AC', '##on', '##nect', '##s', 'Member', 'Mass', '.', 'U', '##tility', '@', 'B', '##EL', '##D', '##B', '##rain', '##tree', 'Makes', 'Good', 'On', 'P', '##ledge', 'To', 'End', '[SEP]']\n",
      "['[CLS]', 'R', '##T', '@', 'T', '##hr', '##ow', '##in', '##T', '##rade', '##s', ':', '$', 'AL', '##PP', '.', '19', 'the', 'most', 'solid', 'investment', 'I', '##ve', 'ever', 'seen', 'in', 'O', '##TC', ',', 'look', 'Into', 'it', 'and', 'do', 'your', 'DD', '.', 'Everything', 'here', 'is', 'leg', '##it', '.', 'Buy', 'and', '…', '[SEP]']\n",
      "['[CLS]', 'R', '##T', '@', 'UP', '##BO', '##ption', '##M', '##il', ':', 'Some', 'of', 'today', '##s', 'most', 'actively', 'traded', 'stock', 'options', '12', '.', '2', '.', '19', '$', 'BA', '##C', '$', 'S', '##NA', '##P', '$', 'B', '##B', '##D', '$', 'AP', '##A', '$', 'GO', '##LD', '$', 'AA', '##PL', 'https', ':', '/', '[SEP]']\n",
      "['[CLS]', '2019', '-', '11', '-', '29', 'Short', 'sale', 'volume', '(', 'not', 'short', 'interest', ')', 'for', '$', 'NO', '##K', 'is', '41', '%', '.', 'https', ':', '/', '/', 't', '.', 'co', '/', 'o', '##P', '##X', '##J', '##L', '##8', '##N', '##ar', '##9', '$', 'AA', '##PL', '48', '%', '$', 'MS', '##FT', '[SEP]']\n",
      "['[CLS]', 'R', '##T', '@', 'pine', '##con', '##ema', '##c', '##ro', ':', '$', 'AA', '##PL', 'worth', 'more', 'than', 'energy', '.', '.', '.', 'all', 'of', 'it', 'https', ':', '/', '/', 't', '.', 'co', '/', 'P', '##9', '##Y', '##v', '##8', '##L', '##g', '##p', '##A', '##c', '[SEP]']\n",
      "['[CLS]', '$', 's', '##p', '##x', '$', 'q', '##q', '##q', '$', 'na', '##s', '##da', '##q', '$', 'd', '##ji', '##a', '$', 'g', '##m', '$', 'x', '##li', '$', 'z', '##n', '_', 'f', '$', 'g', '##c', '_', 'f', '$', 'c', '##l', '_', 'f', '$', 'w', '##m', '##t', '$', 'b', '##a', '$', '[SEP]']\n",
      "['[CLS]', 'R', '##T', '@', 'Vision', '##C', '##ode', '##X', ':', 'Future', '##s', 'in', 'the', 'red', '.', 'Those', 'that', 'follow', 'me', 'know', 'that', 'I', \"'\", 've', 'been', 'expecting', 'this', 'run', 'since', 'mid', '-', 'October', 'to', 're', '##tra', '##ce', '.', 'We', 'made', 'mon', '##e', '…', '[SEP]']\n",
      "['[CLS]', 'R', '##T', '@', 'Ted', '##at', '##AC', '##A', ':', '@', 'MAC', '##ca', '##ble', 'Has', 'The', 'Sc', '##oop', ',', 'As', 'Us', '##ual', ':', '@', 'AC', '##AC', '##on', '##nect', '##s', 'Member', 'Mass', '.', 'U', '##tility', '@', 'B', '##EL', '##D', '##B', '##rain', '##tree', 'Makes', 'Good', 'On', 'P', '##ledge', 'To', 'End', '[SEP]']\n",
      "['[CLS]', 'How', 'to', 'Win', 'Friends', 'and', 'In', '##f', '##lue', '##nce', 'People', 'by', 'Dale', 'Carnegie', ':', 'https', ':', '/', '/', 't', '.', 'co', '/', 'O', '##6', '##m', '##n', '##f', '##EA', '##b', '##ku', '#', 'business', '$', 'AA', '##PL', '$', 'SP', '##Y', '$', 'D', '##IA', '$', 'SP', '##X', '[SEP]']\n",
      "['[CLS]', 'Best', 'Cy', '##ber', 'Monday', 'Mac', '##B', '##ook', 'Air', 'and', 'Mac', '##B', '##ook', 'Pro', 'deals', 'going', 'on', 'right', 'now', '(', 'prices', 'as', 'low', 'as', '$', '64', '##9', ')', '…', 'https', ':', '/', '/', 't', '.', 'co', '/', 'Y', '##pt', '##k', '##Cs', '##N', '##Y', '##r', '##A', '[SEP]']\n",
      "['[CLS]', 'In', 'November', 'I', \"'\", 've', 'added', 'to', '$', 'AA', '##PL', ',', '$', 'T', ',', '$', 'D', '##IS', ',', '$', 'M', '##O', ',', '$', 'K', '##O', ',', '$', 'P', '##G', ',', '$', 'V', '##Z', ',', '$', 'C', '##VS', ',', '$', 'IBM', ',', '$', 'J', '##N', '##J', ',', '[SEP]']\n",
      "['[CLS]', '02', '/', '12', '/', '2019', '$', 'AP', '##A', ':', 'Nice', 'short', 'squeeze', 'and', 'awesome', 'add', 'in', 'to', 'make', 'my', 'day', '.', '$', 'AA', '##PL', ':', 'B', '##roke', 'AT', '##H', 'in', 'pre', 'market', 'so', 'took', 'it', 'l', '…', 'https', ':', '/', '/', 't', '.', 'co', '/', 'K', '[SEP]']\n",
      "['[CLS]', 'R', '##T', '@', '4', '##A', '##wes', '##ome', '##t', '##weet', ':', 'If', 'Apple', 'and', 'Microsoft', 'weren', '’', 't', 'in', 'the', 'Dow', ',', 'it', 'would', 'be', '1', ',', '000', 'points', 'lower', '.', 'Also', ',', 'if', 'C', '##ait', '##lin', 'Jen', '##ner', 'still', 'had', 'a', 'penis', '…', '[SEP]']\n",
      "['[CLS]', 'Future', '##s', 'in', 'the', 'red', '.', 'Those', 'that', 'follow', 'me', 'know', 'that', 'I', \"'\", 've', 'been', 'expecting', 'this', 'run', 'since', 'mid', '-', 'October', 'to', 're', '##tra', '##ce', '.', 'We', 'ma', '…', 'https', ':', '/', '/', 't', '.', 'co', '/', '12', '##z', '##7', '##X', '##V', '##jn', '##6', '[SEP]']\n",
      "['[CLS]', 'R', '##T', '@', 'Wise', '_', 'O', '##wl', '_', 'Trade', '##r', ':', 'Will', 'the', 'VI', '##X', 'break', 'out', 'or', 'reverse', 'tomorrow', '?', '$', 'SP', '##Y', '$', 'Q', '##Q', '##Q', '$', 'N', '##D', '##X', '$', 'D', '##IA', '$', 'I', '##W', '##M', '$', 'NFL', '##X', '$', 'F', '##B', '$', '[SEP]']\n",
      "['[CLS]', 'R', '##T', '@', 'm', '##cc', '##lu', '##re', '##11', '##1', ':', '(', 'Work', 'for', 'like', '…', 'I', 'du', '##nn', '##o', ',', 'an', '$', 'AA', '##PL', 'or', '$', 'MS', '##FT', 'or', '$', 'GO', '##O', '##G', '.', 'Companies', 'like', 'that', 'do', '*', 'everything', '*', '!', 'Nothing', 'is', 'off', '##top', '[SEP]']\n"
     ]
    },
    {
     "name": "stdout",
     "output_type": "stream",
     "text": [
      "['[CLS]', 'Pretty', 'meaningful', 'roll', '##over', 'in', '$', 'AA', '##PL', 'RS', '##I', 'just', 'as', 'it', 'got', 'to', 'be', 'over', '##bo', '##ught', 'and', 'over', '##own', '##ed', '.', '.', 'in', 'del', '##ever', '##ing', 'it', 'can', 'have', 'a', '…', 'https', ':', '/', '/', 't', '.', 'co', '/', 'q', '##3', '##ct', '##D', '[SEP]']\n",
      "['[CLS]', 'R', '##T', '@', 'T', '##hr', '##ow', '##in', '##T', '##rade', '##s', ':', '$', 'AL', '##PP', '.', '19', 'the', 'most', 'solid', 'investment', 'I', '##ve', 'ever', 'seen', 'in', 'O', '##TC', ',', 'look', 'Into', 'it', 'and', 'do', 'your', 'DD', '.', 'Everything', 'here', 'is', 'leg', '##it', '.', 'Buy', 'and', '…', '[SEP]']\n",
      "['[CLS]', 'R', '##T', '@', 'Bruno', '_', 'J', '_', 'Navarro', ':', 'Six', 'of', 'Silicon', 'Valley', '’', 's', 'biggest', 'companies', 'had', 'a', 'combined', '“', 'tax', 'gap', '”', 'of', 'more', 'than', '$', '100', 'billion', 'this', 'decade', ',', 'according', 'to', '…', '[SEP]']\n"
     ]
    },
    {
     "data": {
      "application/vnd.jupyter.widget-view+json": {
       "model_id": "d60805eb2ae0461eb1f4f2041dd191f4",
       "version_major": 2,
       "version_minor": 0
      },
      "text/plain": [
       "HBox(children=(IntProgress(value=0, description='Evaluating', max=3, style=ProgressStyle(description_width='in…"
      ]
     },
     "metadata": {},
     "output_type": "display_data"
    },
    {
     "name": "stdout",
     "output_type": "stream",
     "text": [
      "\n",
      "['RT @ThrowinTrades: $ALPP Alpine 4 Technologies \\n\\n@ major support zone here. $50m rev co 19m market cap,  OTCQB fully audited, zero variable…', 'Judge Demands 3 Yrs Tax Returns From #HunterBiden Who Skips Hearing\\n#FlBadJudges $dis $apo $lb #sarasota #palmbeach… https://t.co/JoYVwSWbqO', 'The Market Appears To Be Over The Trade War Hype, I Know I Am https://t.co/GGptHO7DUs $AAPL, $TSLA, $NFLX, $MU,… https://t.co/oHN2PvcyDj', 'RT @SpartanTrading: Join us Wednesday morning for our Pre-market Analysis &amp; live stream via YouTube. 8-9:30am ET Breakdown of macro/micros,…', 'Expecting more fall tomorrow in $MSFT, $FB, $AAPL ..... From year-end tax plays to just cashing out while the tarif… https://t.co/xKZorxkZvM', 'RT @afortunetrading: $AAPL $265 clears runs to $268 big breakout spot then into $270+ or we head to $262.50 then $260 \\n$ISRG is holding goo…', 'RT @RichLightShed: Critical point for anyone thinking about Apple TV+ subscriptions -- from @WaltBTIG blog earlier today 👇👀 #AppleEvent $AA…', 'Join us Wednesday morning for our Pre-market Analysis &amp; live stream via YouTube. 8-9:30am ET Breakdown of macro/mic… https://t.co/gWRVAcT4c0', 'High Probability Trading by Marcel Link: https://t.co/j1PUQ71YeI #trading $AAPL $TSLA $AMZN $DUST $NUGT $SPY $ES_F', 'RT @EliteOptions2: Wow fun day... \\n\\n$AMZN $SHOP $AAPL $CMG $NVDA are setup to move higher tomorrow\\n\\nI will post my thoughts and a plan for…', '#Market Insight: Gap Down, But Close at Highs…What’s Next? Plus: Free Live WEBINAR TOMORROW 👉… https://t.co/JYf8CSUbXP', \"Warren Buffett's intense ability to focus has fueled his incredible success as an investor:\\nhttps://t.co/kmRxNDFDJN… https://t.co/sq5RnuuJP0\", 'Oprah teaming up with Apple for TV+ documentary highlighting sexual assault in the music industry… https://t.co/ZNYd6TnFw1', 'RT @optionssniper2: Today’s video. Going over $TSLA long from earlier this morning and how I found high conviction of the long in my favor.…', 'Today’s video. Going over $TSLA long from earlier this morning and how I found high conviction of the long in my fa… https://t.co/Demr9jQ8H7', '@ATT #ATT $T Come on now Youre really going to Blatantly Lie &amp; Sell Out like that 🤔 Tisk Tisk.. One reason why I do… https://t.co/qh9NQFV3VK', 'ACTIVE TRADERS Try one of these FREE trading guides:\\n\\nhttps://t.co/cquBdcyi9e\\n\\n$NFLX $TSLA $AAPL $IBB $GS $FB $AMZN $GOOGL $NVDA', 'Apple | $AAPL\\n\\nAPPLE\\n\\nLong or short it on WCX: https://t.co/wGJISyZY2A https://t.co/GUm0x3uwlE', 'Apple TV+ secures Oprah Winfrey film on music industry sexual misconduct https://t.co/tXK3SWthes $AAPL https://t.co/0XEgz4JUEP', 'RT @pineconemacro: $AAPL worth more than energy...all of it https://t.co/P9Yv8LgpAc']\n",
      "['[CLS]', 'R', '##T', '@', 'T', '##hr', '##ow', '##in', '##T', '##rade', '##s', ':', '$', 'AL', '##PP', 'Alpine', '4', 'Technologies', '@', 'major', 'support', 'zone', 'here', '.', '$', '50', '##m', 're', '##v', 'co', '19', '##m', 'market', 'cap', ',', 'O', '##TC', '##Q', '##B', 'fully', 'audit', '##ed', ',', 'zero', 'variable', '…', '[SEP]']\n",
      "['[CLS]', 'Judge', 'De', '##mand', '##s', '3', 'Y', '##rs', 'Tax', 'Return', '##s', 'From', '#', 'Hunter', '##B', '##iden', 'Who', 'Ski', '##ps', 'Hearing', '#', 'F', '##l', '##B', '##ad', '##J', '##udge', '##s', '$', 'di', '##s', '$', 'a', '##po', '$', 'lb', '#', 'sa', '##ras', '##ota', '#', 'palm', '##be', '##ach', '…', 'https', ':', '[SEP]']\n",
      "['[CLS]', 'The', 'Market', 'A', '##ppe', '##ars', 'To', 'Be', 'Over', 'The', 'Trade', 'War', 'H', '##ype', ',', 'I', 'Know', 'I', 'Am', 'https', ':', '/', '/', 't', '.', 'co', '/', 'G', '##G', '##pt', '##H', '##O', '##7', '##D', '##U', '##s', '$', 'AA', '##PL', ',', '$', 'T', '##SL', '##A', ',', '$', 'NFL', '[SEP]']\n",
      "['[CLS]', 'R', '##T', '@', 'Spartan', '##T', '##rading', ':', 'Jo', '##in', 'us', 'Wednesday', 'morning', 'for', 'our', 'Pre', '-', 'market', 'Analysis', '&', 'am', '##p', ';', 'live', 'stream', 'via', 'YouTube', '.', '8', '-', '9', ':', '30', '##am', 'ET', 'Break', '##down', 'of', 'mac', '##ro', '/', 'micro', '##s', ',', '…', '[SEP]']\n",
      "['[CLS]', 'Ex', '##pect', '##ing', 'more', 'fall', 'tomorrow', 'in', '$', 'MS', '##FT', ',', '$', 'F', '##B', ',', '$', 'AA', '##PL', '.', '.', '.', '.', '.', 'From', 'year', '-', 'end', 'tax', 'plays', 'to', 'just', 'cash', '##ing', 'out', 'while', 'the', 'ta', '##ri', '##f', '…', 'https', ':', '/', '/', 't', '.', '[SEP]']\n",
      "['[CLS]', 'R', '##T', '@', 'a', '##fort', '##une', '##tra', '##ding', ':', '$', 'AA', '##PL', '$', '265', 'clear', '##s', 'runs', 'to', '$', '26', '##8', 'big', 'break', '##out', 'spot', 'then', 'into', '$', '270', '+', 'or', 'we', 'head', 'to', '$', '262', '.', '50', 'then', '$', '260', '$', 'IS', '##R', '##G', 'is', '[SEP]']\n",
      "['[CLS]', 'R', '##T', '@', 'Rich', '##L', '##ight', '##S', '##hed', ':', 'Critical', 'point', 'for', 'anyone', 'thinking', 'about', 'Apple', 'TV', '+', 'subscription', '##s', '-', '-', 'from', '@', 'Walt', '##B', '##TI', '##G', 'blog', 'earlier', 'today', '[UNK]', '#', 'Apple', '##E', '##vent', '$', 'AA', '…', '[SEP]']\n",
      "['[CLS]', 'Jo', '##in', 'us', 'Wednesday', 'morning', 'for', 'our', 'Pre', '-', 'market', 'Analysis', '&', 'am', '##p', ';', 'live', 'stream', 'via', 'YouTube', '.', '8', '-', '9', ':', '30', '##am', 'ET', 'Break', '##down', 'of', 'mac', '##ro', '/', 'mi', '##c', '…', 'https', ':', '/', '/', 't', '.', 'co', '/', 'g', '##WR', '[SEP]']\n",
      "['[CLS]', 'High', 'Pro', '##ba', '##bility', 'Trading', 'by', 'Marcel', 'Link', ':', 'https', ':', '/', '/', 't', '.', 'co', '/', 'j', '##1', '##P', '##U', '##Q', '##7', '##1', '##Y', '##e', '##I', '#', 'trading', '$', 'AA', '##PL', '$', 'T', '##SL', '##A', '$', 'AM', '##Z', '##N', '$', 'D', '##US', '##T', '$', 'N', '[SEP]']\n",
      "['[CLS]', 'R', '##T', '@', 'Elite', '##O', '##ption', '##s', '##2', ':', 'Wow', 'fun', 'day', '.', '.', '.', '$', 'AM', '##Z', '##N', '$', 'SH', '##OP', '$', 'AA', '##PL', '$', 'C', '##MG', '$', 'N', '##VD', '##A', 'are', 'setup', 'to', 'move', 'higher', 'tomorrow', 'I', 'will', 'post', 'my', 'thoughts', 'and', 'a', 'plan', '[SEP]']\n",
      "['[CLS]', '#', 'Market', 'In', '##sight', ':', 'Gap', 'Down', ',', 'But', 'Close', 'at', 'High', '##s', '…', 'What', '’', 's', 'Next', '?', 'Plus', ':', 'Free', 'Live', 'W', '##E', '##BI', '##NA', '##R', 'TO', '##MO', '##R', '##RO', '##W', '[UNK]', '…', 'https', ':', '/', '/', 't', '.', 'co', '/', 'J', '##Y', '##f', '[SEP]']\n",
      "['[CLS]', 'Warren', 'B', '##uff', '##ett', \"'\", 's', 'intense', 'ability', 'to', 'focus', 'has', 'fueled', 'his', 'incredible', 'success', 'as', 'an', 'investor', ':', 'https', ':', '/', '/', 't', '.', 'co', '/', 'km', '##R', '##x', '##ND', '##F', '##D', '##J', '##N', '…', 'https', ':', '/', '/', 't', '.', 'co', '/', 'sq', '##5', '[SEP]']\n",
      "['[CLS]', 'Op', '##rah', 'team', '##ing', 'up', 'with', 'Apple', 'for', 'TV', '+', 'documentary', 'highlighting', 'sexual', 'assault', 'in', 'the', 'music', 'industry', '…', 'https', ':', '/', '/', 't', '.', 'co', '/', 'Z', '##N', '##Y', '##d', '##6', '##T', '##n', '##F', '##w', '##1', '[SEP]']\n",
      "['[CLS]', 'R', '##T', '@', 'options', '##s', '##ni', '##per', '##2', ':', 'Today', '’', 's', 'video', '.', 'Going', 'over', '$', 'T', '##SL', '##A', 'long', 'from', 'earlier', 'this', 'morning', 'and', 'how', 'I', 'found', 'high', 'conviction', 'of', 'the', 'long', 'in', 'my', 'favor', '.', '…', '[SEP]']\n",
      "['[CLS]', 'Today', '’', 's', 'video', '.', 'Going', 'over', '$', 'T', '##SL', '##A', 'long', 'from', 'earlier', 'this', 'morning', 'and', 'how', 'I', 'found', 'high', 'conviction', 'of', 'the', 'long', 'in', 'my', 'f', '##a', '…', 'https', ':', '/', '/', 't', '.', 'co', '/', 'De', '##m', '##r', '##9', '##j', '##Q', '##8', '##H', '[SEP]']\n",
      "['[CLS]', '@', 'AT', '##T', '#', 'AT', '##T', '$', 'T', 'Come', 'on', 'now', 'Your', '##e', 'really', 'going', 'to', 'B', '##lat', '##antly', 'Lie', '&', 'am', '##p', ';', 'Se', '##ll', 'Out', 'like', 'that', '[UNK]', 'T', '##isk', 'T', '##isk', '.', '.', 'One', 'reason', 'why', 'I', 'do', '…', 'https', ':', '/', '/', '[SEP]']\n"
     ]
    },
    {
     "name": "stdout",
     "output_type": "stream",
     "text": [
      "['[CLS]', 'ACT', '##IVE', 'T', '##RA', '##DE', '##RS', 'Try', 'one', 'of', 'these', 'F', '##RE', '##E', 'trading', 'guides', ':', 'https', ':', '/', '/', 't', '.', 'co', '/', 'c', '##q', '##u', '##B', '##d', '##cy', '##i', '##9', '##e', '$', 'NFL', '##X', '$', 'T', '##SL', '##A', '$', 'AA', '##PL', '$', 'I', '##BB', '[SEP]']\n",
      "['[CLS]', 'Apple', '|', '$', 'AA', '##PL', 'AP', '##PL', '##E', 'Long', 'or', 'short', 'it', 'on', 'WC', '##X', ':', 'https', ':', '/', '/', 't', '.', 'co', '/', 'w', '##G', '##J', '##IS', '##y', '##Z', '##Y', '##2', '##A', 'https', ':', '/', '/', 't', '.', 'co', '/', 'G', '##U', '##m', '##0', '##x', '[SEP]']\n",
      "['[CLS]', 'Apple', 'TV', '+', 'secure', '##s', 'Op', '##rah', 'Win', '##frey', 'film', 'on', 'music', 'industry', 'sexual', 'misconduct', 'https', ':', '/', '/', 't', '.', 'co', '/', 't', '##X', '##K', '##3', '##S', '##W', '##the', '##s', '$', 'AA', '##PL', 'https', ':', '/', '/', 't', '.', 'co', '/', '0', '##X', '##E', '##g', '[SEP]']\n",
      "['[CLS]', 'R', '##T', '@', 'pine', '##con', '##ema', '##c', '##ro', ':', '$', 'AA', '##PL', 'worth', 'more', 'than', 'energy', '.', '.', '.', 'all', 'of', 'it', 'https', ':', '/', '/', 't', '.', 'co', '/', 'P', '##9', '##Y', '##v', '##8', '##L', '##g', '##p', '##A', '##c', '[SEP]']\n"
     ]
    },
    {
     "data": {
      "application/vnd.jupyter.widget-view+json": {
       "model_id": "34fc0405a1e049e6b1df7cef87bda9d6",
       "version_major": 2,
       "version_minor": 0
      },
      "text/plain": [
       "HBox(children=(IntProgress(value=0, description='Evaluating', max=3, style=ProgressStyle(description_width='in…"
      ]
     },
     "metadata": {},
     "output_type": "display_data"
    },
    {
     "name": "stdout",
     "output_type": "stream",
     "text": [
      "\n",
      "['For the next Episode of #LastMarginCall What would you guys want to hear.  Im working on a few new guests for each… https://t.co/RblbCjBL8D', 'RT @luke_sosnowski: Hell of a call and trade!, called out live in #TRICKTRADES how it is done from the best in #DayTrading #Market #Educati…', 'Thanks to everyone who came &amp; checked us out this morning during our Pre-market Analysis, streamed every Wednesday… https://t.co/bas0SfEYqK', 'I Read FLOTUS Sleeps Alone, For Now? \\n$aapl $amzn $agn $brk $bhc $abbv $msft $fb $crm $cmg $pfe $googl $wfc $jpm… https://t.co/beSF2m1hih', 'RT @OptionsMike: Markets at a big spot, can go either way.. $SPY and a lot of names bounced to the 8D and halted.. Participation today was…', '2019-12-03 Short sale volume (not short interest) for $VZ is 60%. https://t.co/jxAdP4vUZk $USM 65% $T 51% $CTL 42% $AAPL 36%', 'RT @GerberKawasaki: This is a great time to donate appreciated stock to charity. It’s one of the best ways to give. We’re happy to help you…', 'Apple Pay continues international expansion with new banks in Sweden, Austria, and more https://t.co/eqN43UmcvR… https://t.co/WONDbNR8AJ', 'The #Salesforce 10Q Dropped. \\nWho Cares? \\n\\n$aapl $amzn $agn $brk $bhc $abbv $msft $fb $crm $cmg $pfe $googl $wfc… https://t.co/HPKTrq8rCR', 'Open a trading account on USA #option #broker #Nadex with $500 and received $200 FREE after completing 5 trades.… https://t.co/tmqP7P4Y1F', 'RT @fundibularius: $AMZN 1760.69 (-9.27  -0.52%)\\n$GOOGL 1318.94 (+24.20  +1.87%)\\n$TSLA 333.03 (-3.17  -0.94%)\\n$NFLX 304.32 (-1.84  -0.60%)…', '@chigrl 😂😂😂 and to be the biggest market cap company until $AAPL sells the iphones at 4,000 USD basic entry.', 'RT @trickmitch1: $TWTR  $AAPL AND $AMZN\\nEntries and exits for those interested....one of these are 20k can you spot the difference between…', 'RT @optionstradin17: $RVLV hit 3.00 today...hoping for that triple soon. 6% up today. Does anyone even know this stock lol? Reversal Spotte…', 'RT @luke_sosnowski: Hell of a call and trade!, called out live in #TRICKTRADES how it is done from the best in #DayTrading #Market #Educati…', 'I predict you will be able to buy $AAPL in the 240s sometime next month, January....', '67K New Workers Hired &amp; 7MM Fake Job Openings? \\n\\n$aapl $amzn $agn $brk $bhc $abbv $msft $fb $crm $cmg $pfe $googl… https://t.co/YwBEvzVqPp', 'You Can Be A Stock Market Genius by Joel Greenblatt: https://t.co/ndsQu68myc $SPY $STX $VLO $WDC $AAPL $GOOGL $WMT', '@Sandro_power Live stream tonight 9:30 eastern. Come learn and ask questions. $SPY $GOOGL $AAPL $DIS $AMD $QQQ', 'BMW puts the brakes on CarPlay subscription fee in UK https://t.co/r1moZAcU4Z $AAPL https://t.co/evPgydMduk']\n",
      "['[CLS]', 'For', 'the', 'next', 'Episode', 'of', '#', 'Last', '##M', '##ar', '##gin', '##C', '##all', 'What', 'would', 'you', 'guys', 'want', 'to', 'hear', '.', 'I', '##m', 'working', 'on', 'a', 'few', 'new', 'guests', 'for', 'each', '…', 'https', ':', '/', '/', 't', '.', 'co', '/', 'R', '##b', '##l', '##b', '##C', '##j', '##BL', '[SEP]']\n",
      "['[CLS]', 'R', '##T', '@', 'l', '##uke', '_', 'so', '##s', '##no', '##wski', ':', 'Hell', 'of', 'a', 'call', 'and', 'trade', '!', ',', 'called', 'out', 'live', 'in', '#', 'T', '##RI', '##C', '##K', '##TR', '##AD', '##ES', 'how', 'it', 'is', 'done', 'from', 'the', 'best', 'in', '#', 'Day', '##T', '##rading', '#', 'Market', '#', '[SEP]']\n",
      "['[CLS]', 'Thanks', 'to', 'everyone', 'who', 'came', '&', 'am', '##p', ';', 'checked', 'us', 'out', 'this', 'morning', 'during', 'our', 'Pre', '-', 'market', 'Analysis', ',', 'streamed', 'every', 'Wednesday', '…', 'https', ':', '/', '/', 't', '.', 'co', '/', 'b', '##as', '##0', '##S', '##f', '##E', '##Y', '##q', '##K', '[SEP]']\n",
      "['[CLS]', 'I', 'Read', 'FL', '##OT', '##US', 'Sleep', '##s', 'Alone', ',', 'For', 'Now', '?', '$', 'a', '##ap', '##l', '$', 'am', '##z', '##n', '$', 'a', '##gn', '$', 'br', '##k', '$', 'b', '##h', '##c', '$', 'a', '##bb', '##v', '$', 'm', '##s', '##ft', '$', 'f', '##b', '$', 'c', '##rm', '$', 'cm', '[SEP]']\n",
      "['[CLS]', 'R', '##T', '@', 'Op', '##tions', '##M', '##ike', ':', 'Markets', 'at', 'a', 'big', 'spot', ',', 'can', 'go', 'either', 'way', '.', '.', '$', 'SP', '##Y', 'and', 'a', 'lot', 'of', 'names', 'bounced', 'to', 'the', '8', '##D', 'and', 'halted', '.', '.', 'Part', '##ici', '##pation', 'today', 'was', '…', '[SEP]']\n",
      "['[CLS]', '2019', '-', '12', '-', '03', 'Short', 'sale', 'volume', '(', 'not', 'short', 'interest', ')', 'for', '$', 'V', '##Z', 'is', '60', '%', '.', 'https', ':', '/', '/', 't', '.', 'co', '/', 'j', '##x', '##A', '##d', '##P', '##4', '##v', '##U', '##Z', '##k', '$', 'US', '##M', '65', '%', '$', 'T', '[SEP]']\n",
      "['[CLS]', 'R', '##T', '@', 'G', '##er', '##ber', '##K', '##awa', '##saki', ':', 'This', 'is', 'a', 'great', 'time', 'to', 'donate', 'appreciated', 'stock', 'to', 'charity', '.', 'It', '’', 's', 'one', 'of', 'the', 'best', 'ways', 'to', 'give', '.', 'We', '’', 're', 'happy', 'to', 'help', 'you', '…', '[SEP]']\n",
      "['[CLS]', 'Apple', 'Pay', 'continues', 'international', 'expansion', 'with', 'new', 'banks', 'in', 'Sweden', ',', 'Austria', ',', 'and', 'more', 'https', ':', '/', '/', 't', '.', 'co', '/', 'e', '##q', '##N', '##43', '##U', '##m', '##c', '##v', '##R', '…', 'https', ':', '/', '/', 't', '.', 'co', '/', 'W', '##ON', '##D', '##b', '##NR', '[SEP]']\n",
      "['[CLS]', 'The', '#', 'Sales', '##force', '10', '##Q', 'Drop', '##ped', '.', 'Who', 'Care', '##s', '?', '$', 'a', '##ap', '##l', '$', 'am', '##z', '##n', '$', 'a', '##gn', '$', 'br', '##k', '$', 'b', '##h', '##c', '$', 'a', '##bb', '##v', '$', 'm', '##s', '##ft', '$', 'f', '##b', '$', 'c', '##rm', '$', '[SEP]']\n",
      "['[CLS]', 'Open', 'a', 'trading', 'account', 'on', 'USA', '#', 'option', '#', 'broker', '#', 'Na', '##de', '##x', 'with', '$', '500', 'and', 'received', '$', '200', 'F', '##RE', '##E', 'after', 'completing', '5', 'trades', '.', '…', 'https', ':', '/', '/', 't', '.', 'co', '/', 't', '##m', '##q', '##P', '##7', '##P', '##4', '##Y', '[SEP]']\n",
      "['[CLS]', 'R', '##T', '@', 'fund', '##ib', '##ular', '##ius', ':', '$', 'AM', '##Z', '##N', '1760', '.', '69', '(', '-', '9', '.', '27', '-', '0', '.', '52', '%', ')', '$', 'GO', '##O', '##G', '##L', '131', '##8', '.', '94', '(', '+', '24', '.', '20', '+', '1', '.', '87', '%', ')', '[SEP]']\n",
      "['[CLS]', '@', 'ch', '##ig', '##rl', '[UNK]', 'and', 'to', 'be', 'the', 'biggest', 'market', 'cap', 'company', 'until', '$', 'AA', '##PL', 'sells', 'the', 'i', '##phones', 'at', '4', ',', '000', 'USD', 'basic', 'entry', '.', '[SEP]']\n",
      "['[CLS]', 'R', '##T', '@', 'trick', '##mit', '##ch', '##1', ':', '$', 'T', '##W', '##TR', '$', 'AA', '##PL', 'AND', '$', 'AM', '##Z', '##N', 'En', '##tries', 'and', 'exits', 'for', 'those', 'interested', '.', '.', '.', '.', 'one', 'of', 'these', 'are', '20', '##k', 'can', 'you', 'spot', 'the', 'difference', 'between', '…', '[SEP]']\n",
      "['[CLS]', 'R', '##T', '@', 'options', '##tra', '##din', '##17', ':', '$', 'R', '##V', '##L', '##V', 'hit', '3', '.', '00', 'today', '.', '.', '.', 'hoping', 'for', 'that', 'triple', 'soon', '.', '6', '%', 'up', 'today', '.', 'Does', 'anyone', 'even', 'know', 'this', 'stock', 'lo', '##l', '?', 'Rev', '##ers', '##al', 'Spot', '##te', '[SEP]']\n",
      "['[CLS]', 'R', '##T', '@', 'l', '##uke', '_', 'so', '##s', '##no', '##wski', ':', 'Hell', 'of', 'a', 'call', 'and', 'trade', '!', ',', 'called', 'out', 'live', 'in', '#', 'T', '##RI', '##C', '##K', '##TR', '##AD', '##ES', 'how', 'it', 'is', 'done', 'from', 'the', 'best', 'in', '#', 'Day', '##T', '##rading', '#', 'Market', '#', '[SEP]']\n",
      "['[CLS]', 'I', 'predict', 'you', 'will', 'be', 'able', 'to', 'buy', '$', 'AA', '##PL', 'in', 'the', '240', '##s', 'sometime', 'next', 'month', ',', 'January', '.', '.', '.', '.', '[SEP]']\n",
      "['[CLS]', '67', '##K', 'New', 'Workers', 'Hi', '##red', '&', 'am', '##p', ';', '7', '##MM', 'F', '##ake', 'Job', 'Opening', '##s', '?', '$', 'a', '##ap', '##l', '$', 'am', '##z', '##n', '$', 'a', '##gn', '$', 'br', '##k', '$', 'b', '##h', '##c', '$', 'a', '##bb', '##v', '$', 'm', '##s', '##ft', '$', 'f', '[SEP]']\n"
     ]
    },
    {
     "name": "stdout",
     "output_type": "stream",
     "text": [
      "['[CLS]', 'You', 'Can', 'Be', 'A', 'Stock', 'Market', 'Gen', '##ius', 'by', 'Joel', 'Green', '##bla', '##tt', ':', 'https', ':', '/', '/', 't', '.', 'co', '/', 'n', '##ds', '##Q', '##u', '##6', '##8', '##my', '##c', '$', 'SP', '##Y', '$', 'ST', '##X', '$', 'V', '##L', '##O', '$', 'W', '##DC', '$', 'AA', '##PL', '[SEP]']\n",
      "['[CLS]', '@', 'Sand', '##ro', '_', 'power', 'Live', 'stream', 'tonight', '9', ':', '30', 'eastern', '.', 'Come', 'learn', 'and', 'ask', 'questions', '.', '$', 'SP', '##Y', '$', 'GO', '##O', '##G', '##L', '$', 'AA', '##PL', '$', 'D', '##IS', '$', 'AM', '##D', '$', 'Q', '##Q', '##Q', '[SEP]']\n",
      "['[CLS]', 'BMW', 'puts', 'the', 'brakes', 'on', 'Car', '##P', '##lay', 'subscription', 'fee', 'in', 'UK', 'https', ':', '/', '/', 't', '.', 'co', '/', 'r', '##1', '##mo', '##Z', '##A', '##c', '##U', '##4', '##Z', '$', 'AA', '##PL', 'https', ':', '/', '/', 't', '.', 'co', '/', 'e', '##v', '##P', '##gy', '##d', '##M', '[SEP]']\n"
     ]
    },
    {
     "data": {
      "application/vnd.jupyter.widget-view+json": {
       "model_id": "f94e14b2012d4a23abe69d20f7a0a582",
       "version_major": 2,
       "version_minor": 0
      },
      "text/plain": [
       "HBox(children=(IntProgress(value=0, description='Evaluating', max=3, style=ProgressStyle(description_width='in…"
      ]
     },
     "metadata": {},
     "output_type": "display_data"
    },
    {
     "name": "stdout",
     "output_type": "stream",
     "text": [
      "\n",
      "[\"RT @davidmoadel: Should China's Crypto Crackdown Keep You from Buying Bitcoin? -- my article for @MarketRealist  https://t.co/eRwF8DWUl4 $S…\", '$AAPL #patent 20190369969 DYNAMICALLY ADAPTABLE TOOL FOR GRAPHICAL DEVELOPMENT OF USER INTERFACES #tech #IP… https://t.co/2BKZ6H14dR', 'Analyst: Apple will release four 5G iPhone 12 models in 2020 https://t.co/2PymYshM5e $AAPL', '$AAPL Managed to close near the highs, right at our pre-calculated S/R level.  https://t.co/tdgoeHLewM https://t.co/nXGRPe4aY0', '$AAPL $AMZN Peloton Backlash Has Potential to Boost User Growth in Long Term via https://t.co/dU2ohMsCEH', 'Bears can hate Apple for the broad market not selling today......\\n\\nWe have nothing but love for the queen of the ma… https://t.co/BkwqU6dENs', '$AAPL #patent 20190369952 VOICE MEMORANDUM APPLICATION USER INTERFACE #tech #IP #research https://t.co/kw6ZIJVagA', 'Apple releases fourth developer betas of iOS 13.3, iPadOS 13.3, tvOS 13.3 &amp; watchOS 6.1.1 https://t.co/SIil9LAcC7… https://t.co/HKKCJeHQGx', 'No news seems to be good news on the trade front. - https://t.co/O2wykdPBdo\\n3tradewars #Trump $AAPL $AMZN $BA $NKE… https://t.co/qptFC1HwnO', '@Sandro_power $STUDY another winning option plan in $AAPL.', 'RT @Sandro_power: $AAPL  with all that fear we had a few days ago it just helped us make more gains in our  $AAPL dec 20 262.50 calls I had…', 'So far, 85% of who’s voted says $SBES is a 10 bagger from here... MINIMUM 👇 $LYFT $AMD $CZR $CELG $MU $SIRI $QQQ… https://t.co/nmwuz9GTbz', 'ACTIVE TRADERS Try one of these FREE trading guides:\\n\\nhttps://t.co/T9h0yLIRWa\\n\\n$NFLX $TSLA $AAPL $IBB $GS $FB $AMZN $GOOGL $NVDA', \"Should China's Crypto Crackdown Keep You from Buying Bitcoin? -- my article for @MarketRealist… https://t.co/kiMW2SAaEu\", 'Imagine not owning a house.  Member of the millennial elite.  Own a house and $AAPL. https://t.co/b5cVbBvEle', '$AAPL #patent 20190369405 Wafer-Level High Aspect Ratio Beam Shaping #tech #IP #research https://t.co/IRxUISHuMt', 'Market traders checkout the newest video added to the #TRICKTRADES #Youtube channel, \"INSIDE THE MIND OF A PRO DAY… https://t.co/jNU4ReB8DT', '$1,500 profit this week after $1k profit on $AAPL and $1k profit on $LULU. Took small losses on $TSLA and $BYND. Ha… https://t.co/9fJnxlXtir', 'Kuo: Apple to Launch Five iPhones in 2020, Including 5.4-Inch, Two 6.1-Inch, and 6.7-Inch Models… https://t.co/TIPqDrMsLA', 'RT @UltraInstinctTG: I don’t care which way the market goes, I just wanna make my money and retire.\\n$SPX $SPY $AAPL #StockMarket']\n",
      "['[CLS]', 'R', '##T', '@', 'da', '##vid', '##mo', '##ade', '##l', ':', 'Should', 'China', \"'\", 's', 'Cry', '##pt', '##o', 'C', '##rack', '##down', 'Keep', 'You', 'from', 'Buy', '##ing', 'Bit', '##co', '##in', '?', '-', '-', 'my', 'article', 'for', '@', 'Market', '##R', '##eal', '##ist', 'https', ':', '/', '/', 't', '.', 'co', '/', '[SEP]']\n",
      "['[CLS]', '$', 'AA', '##PL', '#', 'patent', '2019', '##0', '##36', '##9', '##9', '##6', '##9', 'D', '##Y', '##NA', '##MI', '##CA', '##LL', '##Y', 'AD', '##AP', '##TA', '##BL', '##E', 'TO', '##OL', 'F', '##OR', 'G', '##RA', '##P', '##H', '##IC', '##AL', 'DE', '##VE', '##L', '##OP', '##ME', '##NT', 'OF', 'US', '##ER', 'IN', '##TE', '##R', '[SEP]']\n",
      "['[CLS]', 'Ana', '##ly', '##st', ':', 'Apple', 'will', 'release', 'four', '5', '##G', 'iPhone', '12', 'models', 'in', '2020', 'https', ':', '/', '/', 't', '.', 'co', '/', '2', '##P', '##ym', '##Y', '##sh', '##M', '##5', '##e', '$', 'AA', '##PL', '[SEP]']\n",
      "['[CLS]', '$', 'AA', '##PL', 'Man', '##aged', 'to', 'close', 'near', 'the', 'high', '##s', ',', 'right', 'at', 'our', 'pre', '-', 'calculated', 'S', '/', 'R', 'level', '.', 'https', ':', '/', '/', 't', '.', 'co', '/', 't', '##d', '##go', '##e', '##HL', '##ew', '##M', 'https', ':', '/', '/', 't', '.', 'co', '/', '[SEP]']\n",
      "['[CLS]', '$', 'AA', '##PL', '$', 'AM', '##Z', '##N', 'P', '##elo', '##ton', 'Back', '##lash', 'Has', 'Po', '##ten', '##tial', 'to', 'Bo', '##ost', 'Use', '##r', 'Growth', 'in', 'Long', 'Te', '##rm', 'via', 'https', ':', '/', '/', 't', '.', 'co', '/', 'd', '##U', '##2', '##oh', '##Ms', '##CE', '##H', '[SEP]']\n",
      "['[CLS]', 'Bears', 'can', 'hate', 'Apple', 'for', 'the', 'broad', 'market', 'not', 'selling', 'today', '.', '.', '.', '.', '.', '.', 'We', 'have', 'nothing', 'but', 'love', 'for', 'the', 'queen', 'of', 'the', 'ma', '…', 'https', ':', '/', '/', 't', '.', 'co', '/', 'B', '##k', '##w', '##q', '##U', '##6', '##d', '##EN', '##s', '[SEP]']\n",
      "['[CLS]', '$', 'AA', '##PL', '#', 'patent', '2019', '##0', '##36', '##9', '##9', '##5', '##2', 'V', '##O', '##IC', '##E', 'ME', '##MO', '##RA', '##ND', '##UM', 'AP', '##PL', '##IC', '##AT', '##ION', 'US', '##ER', 'IN', '##TE', '##R', '##FA', '##CE', '#', 'tech', '#', 'IP', '#', 'research', 'https', ':', '/', '/', 't', '.', 'co', '[SEP]']\n",
      "['[CLS]', 'Apple', 'releases', 'fourth', 'developer', 'beta', '##s', 'of', 'iOS', '13', '.', '3', ',', 'i', '##Pad', '##OS', '13', '.', '3', ',', 't', '##v', '##OS', '13', '.', '3', '&', 'am', '##p', ';', 'watch', '##OS', '6', '.', '1', '.', '1', 'https', ':', '/', '/', 't', '.', 'co', '/', 'S', '##I', '[SEP]']\n",
      "['[CLS]', 'No', 'news', 'seems', 'to', 'be', 'good', 'news', 'on', 'the', 'trade', 'front', '.', '-', 'https', ':', '/', '/', 't', '.', 'co', '/', 'O', '##2', '##wy', '##k', '##d', '##P', '##B', '##do', '3', '##tra', '##de', '##war', '##s', '#', 'Trump', '$', 'AA', '##PL', '$', 'AM', '##Z', '##N', '$', 'BA', '$', '[SEP]']\n",
      "['[CLS]', '@', 'Sand', '##ro', '_', 'power', '$', 'ST', '##U', '##D', '##Y', 'another', 'winning', 'option', 'plan', 'in', '$', 'AA', '##PL', '.', '[SEP]']\n",
      "['[CLS]', 'R', '##T', '@', 'Sand', '##ro', '_', 'power', ':', '$', 'AA', '##PL', 'with', 'all', 'that', 'fear', 'we', 'had', 'a', 'few', 'days', 'ago', 'it', 'just', 'helped', 'us', 'make', 'more', 'gains', 'in', 'our', '$', 'AA', '##PL', 'de', '##c', '20', '262', '.', '50', 'calls', 'I', 'had', '…', '[SEP]']\n",
      "['[CLS]', 'So', 'far', ',', '85', '%', 'of', 'who', '’', 's', 'voted', 'says', '$', 'S', '##BE', '##S', 'is', 'a', '10', 'bag', '##ger', 'from', 'here', '.', '.', '.', 'MI', '##NI', '##MU', '##M', '[UNK]', '$', 'L', '##Y', '##FT', '$', 'AM', '##D', '$', 'C', '##Z', '##R', '$', 'CE', '##L', '##G', '$', '[SEP]']\n",
      "['[CLS]', 'ACT', '##IVE', 'T', '##RA', '##DE', '##RS', 'Try', 'one', 'of', 'these', 'F', '##RE', '##E', 'trading', 'guides', ':', 'https', ':', '/', '/', 't', '.', 'co', '/', 'T', '##9', '##h', '##0', '##y', '##L', '##IR', '##W', '##a', '$', 'NFL', '##X', '$', 'T', '##SL', '##A', '$', 'AA', '##PL', '$', 'I', '##BB', '[SEP]']\n",
      "['[CLS]', 'Should', 'China', \"'\", 's', 'Cry', '##pt', '##o', 'C', '##rack', '##down', 'Keep', 'You', 'from', 'Buy', '##ing', 'Bit', '##co', '##in', '?', '-', '-', 'my', 'article', 'for', '@', 'Market', '##R', '##eal', '##ist', '…', 'https', ':', '/', '/', 't', '.', 'co', '/', 'k', '##i', '##M', '##W', '##2', '##SA', '##a', '##E', '[SEP]']\n",
      "['[CLS]', 'Imagine', 'not', 'owning', 'a', 'house', '.', 'Member', 'of', 'the', 'mill', '##ennial', 'elite', '.', 'Own', 'a', 'house', 'and', '$', 'AA', '##PL', '.', 'https', ':', '/', '/', 't', '.', 'co', '/', 'b', '##5', '##c', '##V', '##b', '##B', '##v', '##E', '##le', '[SEP]']\n",
      "['[CLS]', '$', 'AA', '##PL', '#', 'patent', '2019', '##0', '##36', '##9', '##40', '##5', 'W', '##af', '##er', '-', 'Level', 'High', 'As', '##pect', 'Rat', '##io', 'Be', '##am', 'S', '##ha', '##ping', '#', 'tech', '#', 'IP', '#', 'research', 'https', ':', '/', '/', 't', '.', 'co', '/', 'I', '##R', '##x', '##UI', '##S', '##H', '[SEP]']\n",
      "['[CLS]', 'Market', 'traders', 'check', '##out', 'the', 'newest', 'video', 'added', 'to', 'the', '#', 'T', '##RI', '##C', '##K', '##TR', '##AD', '##ES', '#', 'You', '##tub', '##e', 'channel', ',', '\"', 'IN', '##SI', '##DE', 'THE', 'MI', '##ND', 'OF', 'A', 'PR', '##O', 'D', '##A', '##Y', '…', 'https', ':', '/', '/', 't', '.', 'co', '[SEP]']\n",
      "['[CLS]', '$', '1', ',', '500', 'profit', 'this', 'week', 'after', '$', '1', '##k', 'profit', 'on', '$', 'AA', '##PL', 'and', '$', '1', '##k', 'profit', 'on', '$', 'L', '##U', '##L', '##U', '.', 'Too', '##k', 'small', 'losses', 'on', '$', 'T', '##SL', '##A', 'and', '$', 'B', '##Y', '##ND', '.', 'Ha', '…', 'https', '[SEP]']\n"
     ]
    },
    {
     "name": "stdout",
     "output_type": "stream",
     "text": [
      "['[CLS]', 'Ku', '##o', ':', 'Apple', 'to', 'Launch', 'Five', 'iPhone', '##s', 'in', '2020', ',', 'Including', '5', '.', '4', '-', 'Inc', '##h', ',', 'Two', '6', '.', '1', '-', 'Inc', '##h', ',', 'and', '6', '.', '7', '-', 'Inc', '##h', 'Models', '…', 'https', ':', '/', '/', 't', '.', 'co', '/', 'T', '[SEP]']\n",
      "['[CLS]', 'R', '##T', '@', 'Ultra', '##I', '##nst', '##in', '##ct', '##T', '##G', ':', 'I', 'don', '’', 't', 'care', 'which', 'way', 'the', 'market', 'goes', ',', 'I', 'just', 'wanna', 'make', 'my', 'money', 'and', 'retire', '.', '$', 'SP', '##X', '$', 'SP', '##Y', '$', 'AA', '##PL', '#', 'Stock', '##M', '##ark', '##et', '[SEP]']\n"
     ]
    },
    {
     "data": {
      "application/vnd.jupyter.widget-view+json": {
       "model_id": "a53e1e0aa94749ec8f3b2bfba742088d",
       "version_major": 2,
       "version_minor": 0
      },
      "text/plain": [
       "HBox(children=(IntProgress(value=0, description='Evaluating', max=3, style=ProgressStyle(description_width='in…"
      ]
     },
     "metadata": {},
     "output_type": "display_data"
    },
    {
     "name": "stdout",
     "output_type": "stream",
     "text": [
      "\n",
      "['RT @IBD_ECarson: Market rally awaits big Trump decision on China trade war \\nhttps://t.co/CBEC0Bezew #Apple #AMD $AAPL $AMD $BABA $ASML $DDO…', 'RT @AccessATrader: Live pivot feed meets daily. If you work and can’t make the live webinar, this is the next best thing. Click below and g…', 'RT @IBD_ECarson: Market rally awaits big Trump decision on China trade war \\nhttps://t.co/CBEC0Bezew #Apple #AMD $AAPL $AMD $BABA $ASML $DDO…', 'RT @Tier1Investor: This Investment Bank Says Apple Stock Is Worth $300 #Investing #stocks #growth $AAPL $C $GOOGL $GOOG $FIT \\nhttps://t.co/…', 'Review: The BenQ 27-inch DesignVue UHD Thunderbolt 3 is an asset for designers, photographers, and video editors… https://t.co/J83Lz8XF5x', '$AAPL $ABBV $AINV NEW ARTICLE : November 2019 Dividend Portfolio Update https://t.co/SVSa1botf4 Get all the latest… https://t.co/sF6rgE25xb', 'This Investment Bank Says Apple Stock Is Worth $300 #Investing #stocks #growth $AAPL $C $GOOGL $GOOG $FIT \\nhttps://t.co/nwcScHxQJz', 'RT @alphadogspartan: @MotorolaUS a top #American company got in #CHINA early and did everything right. But it was just committing suicide.…', 'RT @alphadogspartan: @MotorolaUS a top #American company got in #CHINA early and did everything right. But it was just committing suicide.…', 'RT @Three2001: $RDGL Gimmie more, more, more...#PetCancer #Pets #Dogs #Cats #Etc $AMZN $MSFT $AAPL $DS #DisneyPlus $GOOGL $EBAY $TSLA $TMUS…', 'RT @AccessATrader: Live pivot feed meets daily. If you work and can’t make the live webinar, this is the next best thing. Click below and g…', 'Market rally awaits big Trump decision on China trade war \\nhttps://t.co/CBEC0Bezew #Apple #AMD $AAPL $AMD $BABA… https://t.co/yroEmKhWcG', 'RT @BrandonVanZee: The #SectorSelector for 12/06/19 is posted.\\n\\n🥇 Health Care $XLV\\n🥈 Industrials $XLI\\n🥉 Financials $XLF\\n\\nPremium @Market_Sc…', 'RT @BrandonVanZee: The #SectorSelector for 12/06/19 is posted.\\n\\n🥇 Health Care $XLV\\n🥈 Industrials $XLI\\n🥉 Financials $XLF\\n\\nPremium @Market_Sc…', 'The i-fuck retards company #apple $aapl $spy https://t.co/e1KDnbcoDk', '@MotorolaUS a top #American company got in #CHINA early and did everything right. But it was just committing suicid… https://t.co/5dHIUHxvTR', 'ACTIVE TRADERS Try one of these FREE trading guides:\\n\\nhttps://t.co/U6ssgiGvIm\\n\\n$NFLX $TSLA $AAPL $IBB $GS $FB $AMZN $GOOGL $NVDA', 'Ad spending by Disney+, Apple TV+ and other streamers to boost ad spending while other digital natives slow their s… https://t.co/mYcY0OqgRP', '@business WhatsApp, Facebook, Messenger and Instagram to face ban in Germany.\\n$BB @BlackBerry $FB @facebook… https://t.co/b59MP0twL6', 'RT @CampbellMkting: Selling SEO to the C-Suite: How to Convince Company Executives to Support SEO https://t.co/VfO8tdvKfI\\n#marketing #digit…']\n",
      "['[CLS]', 'R', '##T', '@', 'I', '##B', '##D', '_', 'EC', '##ars', '##on', ':', 'Market', 'rally', 'a', '##wai', '##ts', 'big', 'Trump', 'decision', 'on', 'China', 'trade', 'war', 'https', ':', '/', '/', 't', '.', 'co', '/', 'CBE', '##C', '##0', '##B', '##ez', '##ew', '#', 'Apple', '#', 'AM', '##D', '$', 'AA', '##PL', '$', '[SEP]']\n",
      "['[CLS]', 'R', '##T', '@', 'Access', '##AT', '##rade', '##r', ':', 'Live', 'p', '##ivo', '##t', 'feed', 'meets', 'daily', '.', 'If', 'you', 'work', 'and', 'can', '’', 't', 'make', 'the', 'live', 'web', '##ina', '##r', ',', 'this', 'is', 'the', 'next', 'best', 'thing', '.', 'C', '##lick', 'below', 'and', 'g', '…', '[SEP]']\n",
      "['[CLS]', 'R', '##T', '@', 'I', '##B', '##D', '_', 'EC', '##ars', '##on', ':', 'Market', 'rally', 'a', '##wai', '##ts', 'big', 'Trump', 'decision', 'on', 'China', 'trade', 'war', 'https', ':', '/', '/', 't', '.', 'co', '/', 'CBE', '##C', '##0', '##B', '##ez', '##ew', '#', 'Apple', '#', 'AM', '##D', '$', 'AA', '##PL', '$', '[SEP]']\n",
      "['[CLS]', 'R', '##T', '@', 'Tier', '##1', '##I', '##n', '##ves', '##tor', ':', 'This', 'Investment', 'Bank', 'Say', '##s', 'Apple', 'Stock', 'Is', 'Worth', '$', '300', '#', 'In', '##ves', '##ting', '#', 'stocks', '#', 'growth', '$', 'AA', '##PL', '$', 'C', '$', 'GO', '##O', '##G', '##L', '$', 'GO', '##O', '##G', '$', 'F', '##IT', '[SEP]']\n",
      "['[CLS]', 'Review', ':', 'The', 'Ben', '##Q', '27', '-', 'inch', 'Design', '##V', '##ue', 'U', '##HD', 'Thunder', '##bolt', '3', 'is', 'an', 'asset', 'for', 'designers', ',', 'photographers', ',', 'and', 'video', 'editors', '…', 'https', ':', '/', '/', 't', '.', 'co', '/', 'J', '##8', '##3', '##L', '##z', '##8', '##X', '##F', '##5', '##x', '[SEP]']\n",
      "['[CLS]', '$', 'AA', '##PL', '$', 'AB', '##B', '##V', '$', 'AI', '##N', '##V', 'NE', '##W', 'AR', '##TI', '##CL', '##E', ':', 'November', '2019', 'Di', '##vide', '##nd', 'Port', '##fo', '##lio', 'Up', '##date', 'https', ':', '/', '/', 't', '.', 'co', '/', 'SV', '##S', '##a', '##1', '##bot', '##f', '##4', 'Get', 'all', 'the', '[SEP]']\n",
      "['[CLS]', 'This', 'Investment', 'Bank', 'Say', '##s', 'Apple', 'Stock', 'Is', 'Worth', '$', '300', '#', 'In', '##ves', '##ting', '#', 'stocks', '#', 'growth', '$', 'AA', '##PL', '$', 'C', '$', 'GO', '##O', '##G', '##L', '$', 'GO', '##O', '##G', '$', 'F', '##IT', 'https', ':', '/', '/', 't', '.', 'co', '/', 'n', '##w', '[SEP]']\n",
      "['[CLS]', 'R', '##T', '@', 'alpha', '##dog', '##sp', '##art', '##an', ':', '@', 'Motor', '##ola', '##US', 'a', 'top', '#', 'American', 'company', 'got', 'in', '#', 'CH', '##IN', '##A', 'early', 'and', 'did', 'everything', 'right', '.', 'But', 'it', 'was', 'just', 'committing', 'suicide', '.', '…', '[SEP]']\n",
      "['[CLS]', 'R', '##T', '@', 'alpha', '##dog', '##sp', '##art', '##an', ':', '@', 'Motor', '##ola', '##US', 'a', 'top', '#', 'American', 'company', 'got', 'in', '#', 'CH', '##IN', '##A', 'early', 'and', 'did', 'everything', 'right', '.', 'But', 'it', 'was', 'just', 'committing', 'suicide', '.', '…', '[SEP]']\n",
      "['[CLS]', 'R', '##T', '@', 'Three', '##20', '##01', ':', '$', 'R', '##D', '##G', '##L', 'G', '##im', '##mie', 'more', ',', 'more', ',', 'more', '.', '.', '.', '#', 'Pet', '##C', '##ance', '##r', '#', 'Pet', '##s', '#', 'Dogs', '#', 'Cats', '#', 'E', '##t', '##c', '$', 'AM', '##Z', '##N', '$', 'MS', '##FT', '[SEP]']\n",
      "['[CLS]', 'R', '##T', '@', 'Access', '##AT', '##rade', '##r', ':', 'Live', 'p', '##ivo', '##t', 'feed', 'meets', 'daily', '.', 'If', 'you', 'work', 'and', 'can', '’', 't', 'make', 'the', 'live', 'web', '##ina', '##r', ',', 'this', 'is', 'the', 'next', 'best', 'thing', '.', 'C', '##lick', 'below', 'and', 'g', '…', '[SEP]']\n",
      "['[CLS]', 'Market', 'rally', 'a', '##wai', '##ts', 'big', 'Trump', 'decision', 'on', 'China', 'trade', 'war', 'https', ':', '/', '/', 't', '.', 'co', '/', 'CBE', '##C', '##0', '##B', '##ez', '##ew', '#', 'Apple', '#', 'AM', '##D', '$', 'AA', '##PL', '$', 'AM', '##D', '$', 'BA', '##BA', '…', 'https', ':', '/', '/', 't', '[SEP]']\n",
      "['[CLS]', 'R', '##T', '@', 'Brandon', '##V', '##an', '##Z', '##ee', ':', 'The', '#', 'Sector', '##S', '##ele', '##ctor', 'for', '12', '/', '06', '/', '19', 'is', 'posted', '.', '[UNK]', 'Health', 'Care', '$', 'X', '##L', '##V', '[UNK]', 'Industrial', '##s', '$', 'X', '##L', '##I', '[UNK]', 'Financial', '##s', '$', 'X', '##LF', 'Pre', '##mium', '[SEP]']\n",
      "['[CLS]', 'R', '##T', '@', 'Brandon', '##V', '##an', '##Z', '##ee', ':', 'The', '#', 'Sector', '##S', '##ele', '##ctor', 'for', '12', '/', '06', '/', '19', 'is', 'posted', '.', '[UNK]', 'Health', 'Care', '$', 'X', '##L', '##V', '[UNK]', 'Industrial', '##s', '$', 'X', '##L', '##I', '[UNK]', 'Financial', '##s', '$', 'X', '##LF', 'Pre', '##mium', '[SEP]']\n",
      "['[CLS]', 'The', 'i', '-', 'fuck', 're', '##tar', '##ds', 'company', '#', 'apple', '$', 'a', '##ap', '##l', '$', 'spy', 'https', ':', '/', '/', 't', '.', 'co', '/', 'e', '##1', '##K', '##D', '##n', '##b', '##co', '##D', '##k', '[SEP]']\n",
      "['[CLS]', '@', 'Motor', '##ola', '##US', 'a', 'top', '#', 'American', 'company', 'got', 'in', '#', 'CH', '##IN', '##A', 'early', 'and', 'did', 'everything', 'right', '.', 'But', 'it', 'was', 'just', 'committing', 'su', '##ici', '##d', '…', 'https', ':', '/', '/', 't', '.', 'co', '/', '5', '##d', '##H', '##I', '##U', '##H', '##x', '##v', '[SEP]']\n"
     ]
    },
    {
     "name": "stdout",
     "output_type": "stream",
     "text": [
      "['[CLS]', 'ACT', '##IVE', 'T', '##RA', '##DE', '##RS', 'Try', 'one', 'of', 'these', 'F', '##RE', '##E', 'trading', 'guides', ':', 'https', ':', '/', '/', 't', '.', 'co', '/', 'U', '##6', '##ss', '##gi', '##G', '##v', '##I', '##m', '$', 'NFL', '##X', '$', 'T', '##SL', '##A', '$', 'AA', '##PL', '$', 'I', '##BB', '$', '[SEP]']\n",
      "['[CLS]', 'Ad', 'spending', 'by', 'Disney', '+', ',', 'Apple', 'TV', '+', 'and', 'other', 'stream', '##ers', 'to', 'boost', 'ad', 'spending', 'while', 'other', 'digital', 'natives', 'slow', 'their', 's', '…', 'https', ':', '/', '/', 't', '.', 'co', '/', 'm', '##Y', '##c', '##Y', '##0', '##O', '##q', '##g', '##RP', '[SEP]']\n",
      "['[CLS]', '@', 'business', 'What', '##s', '##A', '##pp', ',', 'Facebook', ',', 'Messenger', 'and', 'In', '##sta', '##gram', 'to', 'face', 'ban', 'in', 'Germany', '.', '$', 'B', '##B', '@', 'Black', '##B', '##erry', '$', 'F', '##B', '@', 'face', '##book', '…', 'https', ':', '/', '/', 't', '.', 'co', '/', 'b', '##5', '##9', '##MP', '[SEP]']\n",
      "['[CLS]', 'R', '##T', '@', 'Campbell', '##M', '##kt', '##ing', ':', 'Se', '##lling', 'SE', '##O', 'to', 'the', 'C', '-', 'Suite', ':', 'How', 'to', 'Con', '##vin', '##ce', 'Company', 'Executive', '##s', 'to', 'Support', 'SE', '##O', 'https', ':', '/', '/', 't', '.', 'co', '/', 'V', '##f', '##O', '##8', '##t', '##d', '##v', '##K', '[SEP]']\n"
     ]
    },
    {
     "data": {
      "application/vnd.jupyter.widget-view+json": {
       "model_id": "bc529e8c3f594670abb04756e799de8a",
       "version_major": 2,
       "version_minor": 0
      },
      "text/plain": [
       "HBox(children=(IntProgress(value=0, description='Evaluating', max=3, style=ProgressStyle(description_width='in…"
      ]
     },
     "metadata": {},
     "output_type": "display_data"
    },
    {
     "name": "stdout",
     "output_type": "stream",
     "text": [
      "\n",
      "['The Blueprint to Monster Trades... - https://t.co/rNzO896O5d\\n\\n$BTC $MSFT $FB $NVDA $BYND $TWLO $BKNG $AMZN $GOOGL… https://t.co/0Gvua4MPaT', \"Chief architect of $AAPL chips left in February. Now he's a co-founder of a server chip design firm.\\n\\nApple just su… https://t.co/A1xKaA5gKN\", 'RT @GuyGentile: $SHOP $AAPL two great calls LIVE in the room. Nailed 2 out of 2, looking forward to tomorrow! #DAYTRADERPRO', 'RT @YahooFinance: Highlight: \"It\\'s surprising stocks are down slightly today just coming off of the strong day we had on Friday,\" @scottgam…', 'RT @FocusedValue: Awesome quotes from Warren Buffett, the greatest investor of all time. https://t.co/3tLKaxuI9S\\n\\n $BRK.A $BRK.B $AAL $AAPL…', 'RT @CNBCFastMoney: Check out what @Grassosteve @petenajarian @karenfinerman @guyadami are trading tomorrow morning. $AAPL $M $XLF $CVX http…', 'RT @breadboxalerts: Day In Review 12/9\\n\\nYoutube: https://t.co/BBTDa4KEpM\\n\\nhttps://t.co/6ApU6Begvi \\nhttps://t.co/vd4cBwnX72 \\n\\n$AAPL $ARQL $A…', \"RT @DrivingTheDay: Dec 9: US Stocks $SPX Down on 'Trade Jitters' - Dec 10 US Senate Hearings on #Encryption &amp; Lawful Access AND Oversight o…\", 'Awesome quotes from Warren Buffett, the greatest investor of all time. https://t.co/3tLKaxuI9S\\n\\n $BRK.A $BRK.B $AAL… https://t.co/XkcaTm0eX4', 'RT @dannyvena: #Apple Dominates the Market as #Wearables Shipments Surge @themotleyfool #stocks $AAPL #AirPods #AirPodsPro #AppleWatch #Bea…', 'RT @CNBCFastMoney: Check out what @Grassosteve @petenajarian @karenfinerman @guyadami are trading tomorrow morning. $AAPL $M $XLF $CVX http…', 'RT @WeeklyOptions_1: $AAPL Sell. Apple Stock Is the Most at Risk From the Next Tariffs on China, Analyst Says https://t.co/Q4trCZxKA8', 'RT @MarTycharts: $AAPL Still sitting at top rail of 35yr pitchfork. Very interested to see the next move.. https://t.co/OUH737S4eA', 'RT @CNBCFastMoney: Check out what @Grassosteve @petenajarian @karenfinerman @guyadami are trading tomorrow morning. $AAPL $M $XLF $CVX http…', '@ThinkTankCharts Still $AAPL will manufacturer in china because its cheap labor 🙏', 'Apple making first CES appearance in decades, talking privacy with Facebook and others https://t.co/GVl4yQIUgZ $AAPL https://t.co/BajUA4KW9d', 'RT @breadboxalerts: Day In Review 12/9\\n\\nYoutube: https://t.co/BBTDa4KEpM\\n\\nhttps://t.co/6ApU6Begvi \\nhttps://t.co/vd4cBwnX72 \\n\\n$AAPL $ARQL $A…', \"RT @vboykis: Did an analysis on the superset of all Hacker News comments. The results are surprising: \\n\\n42%  Complaining about link's CSS f…\", '$SPY $SPX $QQQ $ES_F $NQ_F $RTY_F $ZB_F $GC_F $NDX $RUT $AAPL $NFLX $AMZN $TSLA $FB $MSFT $DIA $NDX $IWM $QCOM $GDX… https://t.co/7MvdK1fOg7', '@FoolAllTheTime @Digiday @industrydive subscribe their RSS feeds / most stuff is free (yet they have lot of good st… https://t.co/K5FTaU2Yrw']\n",
      "['[CLS]', 'The', 'Blue', '##print', 'to', 'Monster', 'Trade', '##s', '.', '.', '.', '-', 'https', ':', '/', '/', 't', '.', 'co', '/', 'r', '##N', '##z', '##O', '##8', '##9', '##6', '##O', '##5', '##d', '$', 'BT', '##C', '$', 'MS', '##FT', '$', 'F', '##B', '$', 'N', '##VD', '##A', '$', 'B', '##Y', '##ND', '[SEP]']\n",
      "['[CLS]', 'Chief', 'architect', 'of', '$', 'AA', '##PL', 'chips', 'left', 'in', 'February', '.', 'Now', 'he', \"'\", 's', 'a', 'co', '-', 'founder', 'of', 'a', 'server', 'chip', 'design', 'firm', '.', 'Apple', 'just', 'su', '…', 'https', ':', '/', '/', 't', '.', 'co', '/', 'A1', '##x', '##K', '##a', '##A', '##5', '##g', '##K', '[SEP]']\n",
      "['[CLS]', 'R', '##T', '@', 'Guy', '##G', '##ent', '##ile', ':', '$', 'SH', '##OP', '$', 'AA', '##PL', 'two', 'great', 'calls', 'L', '##IVE', 'in', 'the', 'room', '.', 'Na', '##iled', '2', 'out', 'of', '2', ',', 'looking', 'forward', 'to', 'tomorrow', '!', '#', 'D', '##A', '##Y', '##TR', '##AD', '##ER', '##PR', '##O', '[SEP]']\n",
      "['[CLS]', 'R', '##T', '@', 'Yahoo', '##F', '##ina', '##nce', ':', 'High', '##light', ':', '\"', 'It', \"'\", 's', 'surprising', 'stocks', 'are', 'down', 'slightly', 'today', 'just', 'coming', 'off', 'of', 'the', 'strong', 'day', 'we', 'had', 'on', 'Friday', ',', '\"', '@', 's', '##cott', '##gam', '…', '[SEP]']\n",
      "['[CLS]', 'R', '##T', '@', 'Focus', '##ed', '##V', '##al', '##ue', ':', 'A', '##wes', '##ome', 'quotes', 'from', 'Warren', 'B', '##uff', '##ett', ',', 'the', 'greatest', 'investor', 'of', 'all', 'time', '.', 'https', ':', '/', '/', 't', '.', 'co', '/', '3', '##t', '##L', '##K', '##ax', '##u', '##I', '##9', '##S', '$', 'BR', '##K', '[SEP]']\n",
      "['[CLS]', 'R', '##T', '@', 'C', '##NBC', '##F', '##ast', '##M', '##oney', ':', 'Check', 'out', 'what', '@', 'Grass', '##ost', '##eve', '@', 'pet', '##ena', '##jar', '##ian', '@', 'ka', '##ren', '##fine', '##rman', '@', 'guy', '##ada', '##mi', 'are', 'trading', 'tomorrow', 'morning', '.', '$', 'AA', '##PL', '$', 'M', '$', 'X', '##LF', '$', 'C', '[SEP]']\n",
      "['[CLS]', 'R', '##T', '@', 'bread', '##box', '##ale', '##rts', ':', 'Day', 'In', 'Review', '12', '/', '9', 'You', '##tub', '##e', ':', 'https', ':', '/', '/', 't', '.', 'co', '/', 'B', '##B', '##T', '##D', '##a', '##4', '##KE', '##p', '##M', 'https', ':', '/', '/', 't', '.', 'co', '/', '6', '##A', '##p', '[SEP]']\n",
      "['[CLS]', 'R', '##T', '@', 'Driving', '##T', '##he', '##D', '##ay', ':', 'Dec', '9', ':', 'US', 'Stock', '##s', '$', 'SP', '##X', 'Down', 'on', \"'\", 'Trade', 'Ji', '##tters', \"'\", '-', 'Dec', '10', 'US', 'Senate', 'Hearing', '##s', 'on', '#', 'En', '##c', '##ry', '##ption', '&', 'am', '##p', ';', 'Law', '##ful', 'Access', 'AND', '[SEP]']\n",
      "['[CLS]', 'A', '##wes', '##ome', 'quotes', 'from', 'Warren', 'B', '##uff', '##ett', ',', 'the', 'greatest', 'investor', 'of', 'all', 'time', '.', 'https', ':', '/', '/', 't', '.', 'co', '/', '3', '##t', '##L', '##K', '##ax', '##u', '##I', '##9', '##S', '$', 'BR', '##K', '.', 'A', '$', 'BR', '##K', '.', 'B', '$', 'AA', '[SEP]']\n",
      "['[CLS]', 'R', '##T', '@', 'da', '##nny', '##ven', '##a', ':', '#', 'Apple', 'Dom', '##inate', '##s', 'the', 'Market', 'as', '#', 'We', '##ara', '##bles', 'Ship', '##ments', 'Sur', '##ge', '@', 'them', '##ot', '##ley', '##fo', '##ol', '#', 'stocks', '$', 'AA', '##PL', '#', 'Air', '##P', '##ods', '#', 'Air', '##P', '##ods', '##P', '##ro', '#', '[SEP]']\n",
      "['[CLS]', 'R', '##T', '@', 'C', '##NBC', '##F', '##ast', '##M', '##oney', ':', 'Check', 'out', 'what', '@', 'Grass', '##ost', '##eve', '@', 'pet', '##ena', '##jar', '##ian', '@', 'ka', '##ren', '##fine', '##rman', '@', 'guy', '##ada', '##mi', 'are', 'trading', 'tomorrow', 'morning', '.', '$', 'AA', '##PL', '$', 'M', '$', 'X', '##LF', '$', 'C', '[SEP]']\n",
      "['[CLS]', 'R', '##T', '@', 'Weekly', '##O', '##ption', '##s', '_', '1', ':', '$', 'AA', '##PL', 'Se', '##ll', '.', 'Apple', 'Stock', 'Is', 'the', 'Most', 'at', 'Risk', 'From', 'the', 'Next', 'Ta', '##riff', '##s', 'on', 'China', ',', 'Ana', '##ly', '##st', 'Say', '##s', 'https', ':', '/', '/', 't', '.', 'co', '/', 'Q', '[SEP]']\n",
      "['[CLS]', 'R', '##T', '@', 'Mar', '##T', '##ych', '##art', '##s', ':', '$', 'AA', '##PL', 'Still', 'sitting', 'at', 'top', 'rail', 'of', '35', '##yr', 'pitch', '##fo', '##rk', '.', 'Very', 'interested', 'to', 'see', 'the', 'next', 'move', '.', '.', 'https', ':', '/', '/', 't', '.', 'co', '/', 'O', '##U', '##H', '##7', '##37', '[SEP]']\n",
      "['[CLS]', 'R', '##T', '@', 'C', '##NBC', '##F', '##ast', '##M', '##oney', ':', 'Check', 'out', 'what', '@', 'Grass', '##ost', '##eve', '@', 'pet', '##ena', '##jar', '##ian', '@', 'ka', '##ren', '##fine', '##rman', '@', 'guy', '##ada', '##mi', 'are', 'trading', 'tomorrow', 'morning', '.', '$', 'AA', '##PL', '$', 'M', '$', 'X', '##LF', '$', 'C', '[SEP]']\n",
      "['[CLS]', '@', 'Think', '##T', '##an', '##k', '##C', '##hart', '##s', 'Still', '$', 'AA', '##PL', 'will', 'manufacturer', 'in', 'chin', '##a', 'because', 'its', 'cheap', 'labor', '[UNK]', '[SEP]']\n",
      "['[CLS]', 'Apple', 'making', 'first', 'CE', '##S', 'appearance', 'in', 'decades', ',', 'talking', 'privacy', 'with', 'Facebook', 'and', 'others', 'https', ':', '/', '/', 't', '.', 'co', '/', 'G', '##V', '##l', '##4', '##y', '##Q', '##I', '##U', '##g', '##Z', '$', 'AA', '##PL', 'https', ':', '/', '/', 't', '.', 'co', '/', 'Ba', '##j', '[SEP]']\n"
     ]
    },
    {
     "name": "stdout",
     "output_type": "stream",
     "text": [
      "['[CLS]', 'R', '##T', '@', 'bread', '##box', '##ale', '##rts', ':', 'Day', 'In', 'Review', '12', '/', '9', 'You', '##tub', '##e', ':', 'https', ':', '/', '/', 't', '.', 'co', '/', 'B', '##B', '##T', '##D', '##a', '##4', '##KE', '##p', '##M', 'https', ':', '/', '/', 't', '.', 'co', '/', '6', '##A', '##p', '[SEP]']\n",
      "['[CLS]', 'R', '##T', '@', 'v', '##boy', '##kis', ':', 'Did', 'an', 'analysis', 'on', 'the', 'super', '##set', 'of', 'all', 'Ha', '##cker', 'News', 'comments', '.', 'The', 'results', 'are', 'surprising', ':', '42', '%', 'Co', '##mp', '##lain', '##ing', 'about', 'link', \"'\", 's', 'CS', '##S', 'f', '…', '[SEP]']\n",
      "['[CLS]', '$', 'SP', '##Y', '$', 'SP', '##X', '$', 'Q', '##Q', '##Q', '$', 'E', '##S', '_', 'F', '$', 'N', '##Q', '_', 'F', '$', 'R', '##TY', '_', 'F', '$', 'Z', '##B', '_', 'F', '$', 'G', '##C', '_', 'F', '$', 'N', '##D', '##X', '$', 'R', '##UT', '$', 'AA', '##PL', '$', '[SEP]']\n",
      "['[CLS]', '@', 'Fool', '##A', '##ll', '##T', '##he', '##T', '##ime', '@', 'Di', '##gi', '##day', '@', 'industry', '##di', '##ve', 'sub', '##s', '##cribe', 'their', 'RS', '##S', 'feeds', '/', 'most', 'stuff', 'is', 'free', '(', 'yet', 'they', 'have', 'lot', 'of', 'good', 's', '##t', '…', 'https', ':', '/', '/', 't', '.', 'co', '/', '[SEP]']\n"
     ]
    },
    {
     "data": {
      "application/vnd.jupyter.widget-view+json": {
       "model_id": "cecd0dff77054689b03280e1534e4a83",
       "version_major": 2,
       "version_minor": 0
      },
      "text/plain": [
       "HBox(children=(IntProgress(value=0, description='Evaluating', max=3, style=ProgressStyle(description_width='in…"
      ]
     },
     "metadata": {},
     "output_type": "display_data"
    },
    {
     "name": "stdout",
     "output_type": "stream",
     "text": [
      "\n",
      "[Timestamp('2019-12-03 00:00:00', freq='B'), Timestamp('2019-12-04 00:00:00', freq='B'), Timestamp('2019-12-05 00:00:00', freq='B'), Timestamp('2019-12-06 00:00:00', freq='B'), Timestamp('2019-12-09 00:00:00', freq='B'), Timestamp('2019-12-10 00:00:00', freq='B')]\n",
      "[-1. -1. -1. -1. -1.  1.]\n"
     ]
    }
   ],
   "source": [
    "predictor.set_stock(\"AAPL\")\n",
    "predictor.set_date_range(\"2019-12-03\", \"2019-12-10\")\n",
    "market_days, pred = predictor.predicts(query = \"$AAPL\", count = 20)\n",
    "print(market_days)\n",
    "print(pred)"
   ]
  },
  {
   "cell_type": "code",
   "execution_count": 48,
   "metadata": {},
   "outputs": [
    {
     "ename": "AttributeError",
     "evalue": "'numpy.ndarray' object has no attribute 'count'",
     "output_type": "error",
     "traceback": [
      "\u001b[1;31m---------------------------------------------------------------------------\u001b[0m",
      "\u001b[1;31mAttributeError\u001b[0m                            Traceback (most recent call last)",
      "\u001b[1;32m<ipython-input-48-8b91788b6696>\u001b[0m in \u001b[0;36m<module>\u001b[1;34m\u001b[0m\n\u001b[1;32m----> 1\u001b[1;33m \u001b[0mresult\u001b[0m\u001b[1;33m,\u001b[0m \u001b[0maccuracy\u001b[0m \u001b[1;33m=\u001b[0m \u001b[0mpredictor\u001b[0m\u001b[1;33m.\u001b[0m\u001b[0mverify\u001b[0m\u001b[1;33m(\u001b[0m\u001b[0mpred\u001b[0m\u001b[1;33m)\u001b[0m\u001b[1;33m\u001b[0m\u001b[1;33m\u001b[0m\u001b[0m\n\u001b[0m\u001b[0;32m      2\u001b[0m \u001b[0mprint\u001b[0m\u001b[1;33m(\u001b[0m\u001b[1;34m\"Result: {}, accuracy: {}\"\u001b[0m\u001b[1;33m.\u001b[0m\u001b[0mformat\u001b[0m\u001b[1;33m(\u001b[0m\u001b[0mresult\u001b[0m\u001b[1;33m,\u001b[0m \u001b[0maccuracy\u001b[0m\u001b[1;33m)\u001b[0m\u001b[1;33m)\u001b[0m\u001b[1;33m\u001b[0m\u001b[1;33m\u001b[0m\u001b[0m\n",
      "\u001b[1;32m<ipython-input-45-42a0f07af50a>\u001b[0m in \u001b[0;36mverify\u001b[1;34m(self, pred)\u001b[0m\n\u001b[0;32m    136\u001b[0m             \u001b[0mresult\u001b[0m \u001b[1;33m=\u001b[0m \u001b[0mnp\u001b[0m\u001b[1;33m.\u001b[0m\u001b[0mappend\u001b[0m\u001b[1;33m(\u001b[0m\u001b[0mresult\u001b[0m\u001b[1;33m,\u001b[0m \u001b[0mp\u001b[0m \u001b[1;33m==\u001b[0m \u001b[0mv\u001b[0m\u001b[1;33m)\u001b[0m\u001b[1;33m\u001b[0m\u001b[1;33m\u001b[0m\u001b[0m\n\u001b[0;32m    137\u001b[0m \u001b[1;33m\u001b[0m\u001b[0m\n\u001b[1;32m--> 138\u001b[1;33m         \u001b[0mcorrect\u001b[0m \u001b[1;33m=\u001b[0m \u001b[0mresult\u001b[0m\u001b[1;33m.\u001b[0m\u001b[0mcount\u001b[0m\u001b[1;33m(\u001b[0m\u001b[1;32mTrue\u001b[0m\u001b[1;33m)\u001b[0m\u001b[1;33m\u001b[0m\u001b[1;33m\u001b[0m\u001b[0m\n\u001b[0m\u001b[0;32m    139\u001b[0m         \u001b[0maccuracy\u001b[0m \u001b[1;33m=\u001b[0m \u001b[0mcorrect\u001b[0m \u001b[1;33m/\u001b[0m \u001b[0mlen\u001b[0m\u001b[1;33m(\u001b[0m\u001b[0mpred\u001b[0m\u001b[1;33m)\u001b[0m\u001b[1;33m\u001b[0m\u001b[1;33m\u001b[0m\u001b[0m\n\u001b[0;32m    140\u001b[0m \u001b[1;33m\u001b[0m\u001b[0m\n",
      "\u001b[1;31mAttributeError\u001b[0m: 'numpy.ndarray' object has no attribute 'count'"
     ]
    }
   ],
   "source": [
    "result, accuracy = predictor.verify(pred)\n",
    "print(\"Result: {}, accuracy: {}\".format(result, accuracy))"
   ]
  }
 ],
 "metadata": {
  "kernelspec": {
   "display_name": "Python 3",
   "language": "python",
   "name": "python3"
  },
  "language_info": {
   "codemirror_mode": {
    "name": "ipython",
    "version": 3
   },
   "file_extension": ".py",
   "mimetype": "text/x-python",
   "name": "python",
   "nbconvert_exporter": "python",
   "pygments_lexer": "ipython3",
   "version": "3.7.4"
  }
 },
 "nbformat": 4,
 "nbformat_minor": 2
}
